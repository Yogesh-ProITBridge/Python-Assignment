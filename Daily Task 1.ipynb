{
 "cells": [
  {
   "cell_type": "markdown",
   "id": "a4453e84-ae05-417a-81ab-7d26679c5757",
   "metadata": {},
   "source": [
    "## Daily Task - 1"
   ]
  },
  {
   "cell_type": "code",
   "execution_count": 16,
   "id": "5d090ea7-dd76-4672-993f-19953a143a2f",
   "metadata": {},
   "outputs": [],
   "source": [
    "#The capitalize() method converts the first character of a string to an uppercase letter and all other alphabets to lowercase.\n",
    "#syntax - string.capitalize()"
   ]
  },
  {
   "cell_type": "code",
   "execution_count": 16,
   "id": "dec2a193-a20b-4adc-a5d6-d2b6bbeea0f2",
   "metadata": {},
   "outputs": [],
   "source": [
    "safety_rule = \"drive safely\" "
   ]
  },
  {
   "cell_type": "code",
   "execution_count": 19,
   "id": "887ce282-9d5c-4c65-8298-a9744103237a",
   "metadata": {},
   "outputs": [
    {
     "data": {
      "text/plain": [
       "'Drive safely'"
      ]
     },
     "execution_count": 19,
     "metadata": {},
     "output_type": "execute_result"
    }
   ],
   "source": [
    "safety_rule.capitalize()"
   ]
  },
  {
   "cell_type": "code",
   "execution_count": 18,
   "id": "c73e0b63-0fd0-43d8-ab4c-ec3a7b1c182c",
   "metadata": {},
   "outputs": [],
   "source": [
    "myself = \"i'm yogesh\""
   ]
  },
  {
   "cell_type": "code",
   "execution_count": 15,
   "id": "66f9a72a-df18-4d7e-832a-72bdd0845343",
   "metadata": {},
   "outputs": [
    {
     "data": {
      "text/plain": [
       "\"I'm yogesh\""
      ]
     },
     "execution_count": 15,
     "metadata": {},
     "output_type": "execute_result"
    }
   ],
   "source": [
    "myself.capitalize()\n"
   ]
  },
  {
   "cell_type": "code",
   "execution_count": 2,
   "id": "11cbe391-2f04-422f-933c-09c6ece022e4",
   "metadata": {},
   "outputs": [],
   "source": [
    "#The casefold() method converts all characters of the string into lowercase letters and returns a new string.\n",
    "#syntax - str.casefold()"
   ]
  },
  {
   "cell_type": "code",
   "execution_count": 26,
   "id": "1a84f735-951d-4f3e-990d-8cd4cb83bce0",
   "metadata": {},
   "outputs": [],
   "source": [
    "text_1 = \"WHAT IS YOUR NAME ?\" "
   ]
  },
  {
   "cell_type": "code",
   "execution_count": 27,
   "id": "238d3e5c-8fdc-478d-9e64-0e0e57d081aa",
   "metadata": {},
   "outputs": [
    {
     "name": "stdout",
     "output_type": "stream",
     "text": [
      "what is your name ?\n"
     ]
    }
   ],
   "source": [
    "print(text_1.casefold())"
   ]
  },
  {
   "cell_type": "code",
   "execution_count": 28,
   "id": "a71a8172-cbb5-4a69-9ae1-23601c682ff9",
   "metadata": {},
   "outputs": [],
   "source": [
    "text_2 = \"MY CLASS Is StArT At 9.00 P.m\""
   ]
  },
  {
   "cell_type": "code",
   "execution_count": 29,
   "id": "04510bb4-5eec-4d2a-a077-95706e2582ad",
   "metadata": {},
   "outputs": [
    {
     "name": "stdout",
     "output_type": "stream",
     "text": [
      "my class is start at 9.00 p.m\n"
     ]
    }
   ],
   "source": [
    "print(text_2.casefold())"
   ]
  },
  {
   "cell_type": "code",
   "execution_count": 29,
   "id": "2962bdad-e752-4be9-8eed-b2a2a8ac1977",
   "metadata": {},
   "outputs": [
    {
     "name": "stdout",
     "output_type": "stream",
     "text": [
      "my class is start at 9.00 p.m\n"
     ]
    }
   ],
   "source": [
    "print(text_2.casefold())"
   ]
  },
  {
   "cell_type": "code",
   "execution_count": 3,
   "id": "f96a00b3-b2cf-4fa2-9d3d-45435670fad3",
   "metadata": {},
   "outputs": [],
   "source": [
    "#The count() method returns the number of occurrences of a substring in the given string.\n",
    "#syntax - string.count(substring, start=..., end=...)"
   ]
  },
  {
   "cell_type": "code",
   "execution_count": 35,
   "id": "78406aaf-0752-4b09-8045-8a55bd642a06",
   "metadata": {},
   "outputs": [
    {
     "name": "stdout",
     "output_type": "stream",
     "text": [
      "The count is : 2\n"
     ]
    }
   ],
   "source": [
    "string_1 = \"They can because they think they can\" \n",
    "substring = \"they\"                               \n",
    "count = string_1.count(substring)\n",
    "print(\"The count is :\",count)"
   ]
  },
  {
   "cell_type": "code",
   "execution_count": 4,
   "id": "2c0aa03a-3b80-46e2-9b94-9c54e1ec00a3",
   "metadata": {},
   "outputs": [
    {
     "name": "stdout",
     "output_type": "stream",
     "text": [
      "Number of occurrence of t : 4\n"
     ]
    }
   ],
   "source": [
    "string_2 = \"they can because they think they can\"\n",
    "print('Number of occurrence of t :' ,string_2.count('t'))"
   ]
  },
  {
   "cell_type": "code",
   "execution_count": 4,
   "id": "4ad6e2ab-0dd8-4686-bc56-3f8ad0364462",
   "metadata": {},
   "outputs": [],
   "source": [
    "#The center() method returns a new centered string after padding it with the specified character.\n",
    "#syntax - str.center(width, [fillchar])"
   ]
  },
  {
   "cell_type": "code",
   "execution_count": 62,
   "id": "af455bb5-532f-44d5-a565-2da6a33dd03c",
   "metadata": {},
   "outputs": [
    {
     "name": "stdout",
     "output_type": "stream",
     "text": [
      "*Success is a state of mind*\n"
     ]
    }
   ],
   "source": [
    "point_1 = \"Success is a state of mind\".\n",
    "new_string = point_1.center(28,'*')   \n",
    "print(new_string)"
   ]
  },
  {
   "cell_type": "code",
   "execution_count": 63,
   "id": "6b327e0d-eed5-4185-ab38-72c9254920da",
   "metadata": {},
   "outputs": [
    {
     "data": {
      "text/plain": [
       "'$All is well$'"
      ]
     },
     "execution_count": 63,
     "metadata": {},
     "output_type": "execute_result"
    }
   ],
   "source": [
    "point_2 = \"All is well\"\n",
    "point_2.center(13,'$')"
   ]
  },
  {
   "cell_type": "code",
   "execution_count": 5,
   "id": "c093162a-47a6-4bdb-80cb-54a910cedc60",
   "metadata": {},
   "outputs": [],
   "source": [
    "#The encode() method returns an encoded version of the given string.\n",
    "#encoding - the encoding type a string has to be encoded to\n",
    "#errors - response when encoding fails. There are six types of error response\n",
    "#strict - default response which raises a UnicodeDecodeError exception on failure\n",
    "#ignore - ignores the unencodable unicode from the result\n",
    "#replace - replaces the unencodable unicode to a question mark ?\n",
    "#xmlcharrefreplace - inserts XML character reference instead of unencodable unicode\n",
    "#backslashreplace - inserts a \\uNNNN escape sequence instead of unencodable unicode\n",
    "#namereplace - inserts a \\N{...} escape sequence instead of unencodable unicode\n",
    "#syntax - string.encode(encoding='UTF-8',errors='strict')"
   ]
  },
  {
   "cell_type": "code",
   "execution_count": 3,
   "id": "287d3096-dd7c-4879-8801-376fa70b6fd1",
   "metadata": {},
   "outputs": [],
   "source": [
    "text = \"I had an delightful lunch\"                      "
   ]
  },
  {
   "cell_type": "code",
   "execution_count": 5,
   "id": "1f56eaac-d80e-4058-a4b6-1e37ffc122ff",
   "metadata": {},
   "outputs": [
    {
     "data": {
      "text/plain": [
       "b'I had an delightful lunch'"
      ]
     },
     "execution_count": 5,
     "metadata": {},
     "output_type": "execute_result"
    }
   ],
   "source": [
    "text.encode()"
   ]
  },
  {
   "cell_type": "code",
   "execution_count": 8,
   "id": "e1140768-0dc8-428a-9f6c-ab3ead66ff19",
   "metadata": {},
   "outputs": [],
   "source": [
    "string = \"Attitude!\""
   ]
  },
  {
   "cell_type": "code",
   "execution_count": 9,
   "id": "32761f08-8e42-4b35-8343-d2028a3ddca6",
   "metadata": {},
   "outputs": [
    {
     "data": {
      "text/plain": [
       "b'Attitude!'"
      ]
     },
     "execution_count": 9,
     "metadata": {},
     "output_type": "execute_result"
    }
   ],
   "source": [
    "string.encode()"
   ]
  },
  {
   "cell_type": "code",
   "execution_count": 6,
   "id": "317c3507-5d2c-44a0-a400-96e170a30f95",
   "metadata": {},
   "outputs": [],
   "source": [
    "#The find() method returns the index of first occurrence of the substring (if found). If not found, it returns -1.\n",
    "#syntax - str.find(sub[, start[, end]] )"
   ]
  },
  {
   "cell_type": "code",
   "execution_count": 14,
   "id": "c8d0fe6a-20b0-411b-97a9-4a0508c8d3b4",
   "metadata": {},
   "outputs": [],
   "source": [
    "input = 'You always have a choice'       "
   ]
  },
  {
   "cell_type": "code",
   "execution_count": 15,
   "id": "cd8937c1-a82c-4670-9128-5c5f36a8361a",
   "metadata": {},
   "outputs": [
    {
     "data": {
      "text/plain": [
       "-1"
      ]
     },
     "execution_count": 15,
     "metadata": {},
     "output_type": "execute_result"
    }
   ],
   "source": [
    "input.find('you')"
   ]
  },
  {
   "cell_type": "code",
   "execution_count": 20,
   "id": "8398ffd7-51d5-4240-86af-b7a25628d225",
   "metadata": {},
   "outputs": [
    {
     "data": {
      "text/plain": [
       "-1"
      ]
     },
     "execution_count": 20,
     "metadata": {},
     "output_type": "execute_result"
    }
   ],
   "source": [
    "input = 'do small things with great love'\n",
    "input.find('with',0,10)"
   ]
  },
  {
   "cell_type": "code",
   "execution_count": 7,
   "id": "55bd409b-e12f-41a3-8ee3-a7bd5869ed60",
   "metadata": {},
   "outputs": [],
   "source": [
    "#format() method takes any number of parameters. But, is divided into two types of parameters:\n",
    "#Positional parameters - list of parameters that can be accessed with index of parameter inside curly braces {index}\n",
    "#Keyword parameters - list of parameters of type key=value, that can be accessed with key of parameter inside curly braces {key}\n",
    "#syntax - template.format(p0, p1, ..., k0=v0, k1=v1, ...)"
   ]
  },
  {
   "cell_type": "code",
   "execution_count": 29,
   "id": "3b819d33-30f0-4021-8cd7-9316cac3d9ae",
   "metadata": {},
   "outputs": [
    {
     "name": "stdout",
     "output_type": "stream",
     "text": [
      "the number is:56\n"
     ]
    }
   ],
   "source": [
    "print('the number is:{:d}'.format(56))  "
   ]
  },
  {
   "cell_type": "code",
   "execution_count": 30,
   "id": "7cfa4709-ad97-4530-90bc-78344957a421",
   "metadata": {},
   "outputs": [
    {
     "name": "stdout",
     "output_type": "stream",
     "text": [
      "12.020000 23.020000\n"
     ]
    }
   ],
   "source": [
    "print(\"{:f} {:f}\".format(12.02,23.02))"
   ]
  },
  {
   "cell_type": "code",
   "execution_count": 8,
   "id": "a3aa2100-dbf2-4dcb-9b5b-5e8573ab1780",
   "metadata": {},
   "outputs": [],
   "source": [
    "#The index() method returns the index of a substring inside the string (if found). If the substring is not found, it raises an exception.\n",
    "#syntax - str.index(sub[, start[, end]] "
   ]
  },
  {
   "cell_type": "code",
   "execution_count": 35,
   "id": "062700e4-e28d-4e5c-b78d-cabb275dc712",
   "metadata": {},
   "outputs": [
    {
     "data": {
      "text/plain": [
       "11"
      ]
     },
     "execution_count": 35,
     "metadata": {},
     "output_type": "execute_result"
    }
   ],
   "source": [
    "input = 'Hi everyone, good evening' \n",
    "input.index(',')                    "
   ]
  },
  {
   "cell_type": "code",
   "execution_count": 39,
   "id": "8f628c0d-0d57-4230-9e5c-d19fcfae056d",
   "metadata": {},
   "outputs": [
    {
     "name": "stdout",
     "output_type": "stream",
     "text": [
      "13\n"
     ]
    }
   ],
   "source": [
    "input = 'Hi everyone, good evening'\n",
    "print(input.index('g',9,15))"
   ]
  },
  {
   "cell_type": "code",
   "execution_count": 9,
   "id": "401cae8a-ff57-4c3a-b0ef-7d8f7d382f68",
   "metadata": {},
   "outputs": [],
   "source": [
    "#the isalnum() method returns True if all characters in the string are alphanumeric (either alphabets or numbers). If not, it returns False.\n",
    "#syntax - string.isalnum()"
   ]
  },
  {
   "cell_type": "code",
   "execution_count": 40,
   "id": "bd1dfc18-6cec-4cfa-a961-77ccbeadc23f",
   "metadata": {},
   "outputs": [
    {
     "data": {
      "text/plain": [
       "True"
      ]
     },
     "execution_count": 40,
     "metadata": {},
     "output_type": "execute_result"
    }
   ],
   "source": [
    "string = 'day1' \n",
    "string.isalnum() "
   ]
  },
  {
   "cell_type": "code",
   "execution_count": 41,
   "id": "70d5f41a-50a4-4f30-914e-e4462fe8c34c",
   "metadata": {},
   "outputs": [
    {
     "data": {
      "text/plain": [
       "False"
      ]
     },
     "execution_count": 41,
     "metadata": {},
     "output_type": "execute_result"
    }
   ],
   "source": [
    "string = 'day 1'\n",
    "string.isalnum()"
   ]
  },
  {
   "cell_type": "code",
   "execution_count": 10,
   "id": "c6d684d3-182c-45d7-aeef-3e7c26fc4c1a",
   "metadata": {},
   "outputs": [],
   "source": [
    "#syntax - string.isalpha()\n",
    "#The isalpha() returns:\n",
    "#True if all characters in the string are alphabets (can be both lowercase and uppercase).\n",
    "#False if at least one character is not alphabet."
   ]
  },
  {
   "cell_type": "code",
   "execution_count": 42,
   "id": "5af93d74-6b04-47ad-9188-135e343d33b6",
   "metadata": {},
   "outputs": [
    {
     "name": "stdout",
     "output_type": "stream",
     "text": [
      "True\n"
     ]
    }
   ],
   "source": [
    "name = \"Yogesh\"        \n",
    "print(name.isalpha())  "
   ]
  },
  {
   "cell_type": "code",
   "execution_count": 43,
   "id": "bee86640-0e30-4015-9066-517afca66522",
   "metadata": {},
   "outputs": [
    {
     "name": "stdout",
     "output_type": "stream",
     "text": [
      "False\n"
     ]
    }
   ],
   "source": [
    "name = \"Y0gesh\"\n",
    "print(name.isalpha())"
   ]
  },
  {
   "cell_type": "code",
   "execution_count": 44,
   "id": "8b2580ac-a9f7-4da0-aff1-85de1c8a50e4",
   "metadata": {},
   "outputs": [
    {
     "name": "stdout",
     "output_type": "stream",
     "text": [
      "False\n"
     ]
    }
   ],
   "source": [
    "name = \"Yogesh \"  #contains whitespace\n",
    "print(name.isalpha())"
   ]
  },
  {
   "cell_type": "code",
   "execution_count": 12,
   "id": "cfc33a29-3a8a-4bc1-a893-b3fd1658e739",
   "metadata": {},
   "outputs": [],
   "source": [
    "#syntax - string.isdecimal()\n",
    "#The isdecimal() returns:\n",
    "#True if all characters in the string are decimal characters.\n",
    "#False if at least one character is not decimal character."
   ]
  },
  {
   "cell_type": "code",
   "execution_count": 13,
   "id": "0860c97f-a780-49ce-8c76-90c3dec82307",
   "metadata": {},
   "outputs": [
    {
     "name": "stdout",
     "output_type": "stream",
     "text": [
      "True\n"
     ]
    }
   ],
   "source": [
    "f = \"6845\"      \n",
    "print(f.isdecimal())   "
   ]
  },
  {
   "cell_type": "code",
   "execution_count": 14,
   "id": "84de7384-8f50-4d38-a8d3-5d48e252f44f",
   "metadata": {},
   "outputs": [
    {
     "name": "stdout",
     "output_type": "stream",
     "text": [
      "False\n"
     ]
    }
   ],
   "source": [
    "f = \"556eft\"\n",
    "print(f.isdecimal())"
   ]
  },
  {
   "cell_type": "code",
   "execution_count": 15,
   "id": "bb1aa19a-2bc3-4e84-8e44-48bde9ddf3ea",
   "metadata": {},
   "outputs": [],
   "source": [
    "#syntax - string.isdigit()\n",
    "#The isdigit() method returns True if all characters in a string are digits. If not, it returns False."
   ]
  },
  {
   "cell_type": "code",
   "execution_count": 16,
   "id": "5a62df4d-a338-4825-924b-445b65e37bf5",
   "metadata": {},
   "outputs": [
    {
     "name": "stdout",
     "output_type": "stream",
     "text": [
      "True\n"
     ]
    }
   ],
   "source": [
    "str1 = '56'           \n",
    "print(str1.isdigit())  "
   ]
  },
  {
   "cell_type": "code",
   "execution_count": 49,
   "id": "b7cb365f-4961-4ded-a5e1-638ca2152de9",
   "metadata": {},
   "outputs": [
    {
     "name": "stdout",
     "output_type": "stream",
     "text": [
      "False\n"
     ]
    }
   ],
   "source": [
    "str2 = '5y'\n",
    "print(str2.isdigit())"
   ]
  },
  {
   "cell_type": "code",
   "execution_count": null,
   "id": "3dab5de4-4da9-4f0c-a69d-50cf0dba9082",
   "metadata": {},
   "outputs": [],
   "source": [
    "#syntax - string.isidentifier()\n",
    "#The isidentifier() method returns:\n",
    "#True if the string is a valid identifier\n",
    "#False if the string is not a invalid identifier"
   ]
  },
  {
   "cell_type": "code",
   "execution_count": 53,
   "id": "b75f28f1-8c3c-4e25-9a16-23a58bd37e87",
   "metadata": {},
   "outputs": [
    {
     "name": "stdout",
     "output_type": "stream",
     "text": [
      "False\n"
     ]
    }
   ],
   "source": [
    "str = 'mentor ship'     \n",
    "print(str.isidentifier())"
   ]
  },
  {
   "cell_type": "code",
   "execution_count": 54,
   "id": "3f4ab87e-a936-41c5-8e43-5037c3165e60",
   "metadata": {},
   "outputs": [
    {
     "name": "stdout",
     "output_type": "stream",
     "text": [
      "True\n"
     ]
    }
   ],
   "source": [
    "str = 'mentorship'\n",
    "print(str.isidentifier())"
   ]
  },
  {
   "cell_type": "code",
   "execution_count": null,
   "id": "7ce80771-ed82-47aa-afd6-a7afc1089dcd",
   "metadata": {},
   "outputs": [],
   "source": [
    "#syntax - string.lower()\n",
    "#lower() method returns the lowercase string from the given string. It converts all uppercase characters to lowercase.\n",
    "#If no uppercase characters exist, it returns the original string."
   ]
  },
  {
   "cell_type": "code",
   "execution_count": 55,
   "id": "19324dbd-8771-4c7c-b40d-87443d2ca154",
   "metadata": {},
   "outputs": [
    {
     "name": "stdout",
     "output_type": "stream",
     "text": [
      "False\n"
     ]
    }
   ],
   "source": [
    "string = 'Good evening'  \n",
    "print(string.islower())"
   ]
  },
  {
   "cell_type": "code",
   "execution_count": 56,
   "id": "8469fbad-6e1e-485d-b476-cf1d4505f3fe",
   "metadata": {},
   "outputs": [
    {
     "name": "stdout",
     "output_type": "stream",
     "text": [
      "True\n"
     ]
    }
   ],
   "source": [
    "string = 'good evening' \n",
    "print(string.islower())"
   ]
  },
  {
   "cell_type": "code",
   "execution_count": 17,
   "id": "65b82339-00b6-4b16-b553-269adbc53edb",
   "metadata": {},
   "outputs": [],
   "source": [
    "#syntax - string.isnumeric()\n",
    "#The isnumeric() method returns:\n",
    "#True -if all characters in the string are numeric\n",
    "#False -if at least one character is not a numeric"
   ]
  },
  {
   "cell_type": "code",
   "execution_count": 18,
   "id": "8a012b81-f0b1-4975-9024-c008094401a3",
   "metadata": {},
   "outputs": [
    {
     "name": "stdout",
     "output_type": "stream",
     "text": [
      "True\n"
     ]
    }
   ],
   "source": [
    "num1 = '6842'    \n",
    "print(num1.isnumeric())"
   ]
  },
  {
   "cell_type": "code",
   "execution_count": 65,
   "id": "011b6e04-22e5-49e4-a61d-6b24f727a7fe",
   "metadata": {},
   "outputs": [
    {
     "name": "stdout",
     "output_type": "stream",
     "text": [
      "False\n"
     ]
    }
   ],
   "source": [
    "num2 = '2**2'\n",
    "print(num2.isnumeric())"
   ]
  },
  {
   "cell_type": "code",
   "execution_count": null,
   "id": "1bf65447-cfb6-48e9-8798-e1cda5752c00",
   "metadata": {},
   "outputs": [],
   "source": [
    "#syntax - string.isprintable()\n",
    "#Note:\n",
    "#Characters that occupy printing space on the screen are known as printable characters. For example letters and symbols, digits, punctuation, whitespace\n",
    "#Characters that do not occupy a space and are used for formatting is known as non-printable characters. For example line breaks, page breaks"
   ]
  },
  {
   "cell_type": "code",
   "execution_count": 70,
   "id": "dc865a25-d9eb-4956-aae4-5d9cae5a411a",
   "metadata": {},
   "outputs": [
    {
     "name": "stdout",
     "output_type": "stream",
     "text": [
      "True\n"
     ]
    }
   ],
   "source": [
    "input = 'Hi ! How you doing ?' \n",
    "text = input.isprintable()\n",
    "print(text)"
   ]
  },
  {
   "cell_type": "code",
   "execution_count": null,
   "id": "cc4970e0-5f9a-4740-833b-d6f5477c38ac",
   "metadata": {},
   "outputs": [],
   "source": [
    "#syntax - string.isspace()\n",
    "#isspace() method returns:\n",
    "#True if all characters in the string are whitespace characters\n",
    "#False if the string is empty or contains at least one non-printable character"
   ]
  },
  {
   "cell_type": "code",
   "execution_count": 77,
   "id": "2b2efe38-1dc3-425d-be2a-eb380bf42264",
   "metadata": {},
   "outputs": [
    {
     "name": "stdout",
     "output_type": "stream",
     "text": [
      "True\n"
     ]
    }
   ],
   "source": [
    "space = ' '            \n",
    "print(space.isspace())"
   ]
  },
  {
   "cell_type": "code",
   "execution_count": 78,
   "id": "580d398b-106d-4383-951b-5501570609a0",
   "metadata": {},
   "outputs": [
    {
     "name": "stdout",
     "output_type": "stream",
     "text": [
      "True\n"
     ]
    }
   ],
   "source": [
    "space = '\\n'\n",
    "print(space.isspace())"
   ]
  },
  {
   "cell_type": "code",
   "execution_count": null,
   "id": "a32f8099-3d7c-4ff2-b31c-e4fa489acaa8",
   "metadata": {},
   "outputs": [],
   "source": [
    "#syntax - string.istitle()\n",
    "#The istitle() method returns:\n",
    "#True if the string is a titlecased string\n",
    "#False if the string is not a titlecased string or an empty string"
   ]
  },
  {
   "cell_type": "code",
   "execution_count": 81,
   "id": "9c30afef-50f1-4883-9550-3393e77ae7e5",
   "metadata": {},
   "outputs": [
    {
     "data": {
      "text/plain": [
       "False"
      ]
     },
     "execution_count": 81,
     "metadata": {},
     "output_type": "execute_result"
    }
   ],
   "source": [
    "title = \"WELCOME YOU ALL\" \n",
    "title.istitle()"
   ]
  },
  {
   "cell_type": "code",
   "execution_count": 82,
   "id": "b731e3ca-bbc1-4987-b508-30d22e404b9d",
   "metadata": {},
   "outputs": [
    {
     "data": {
      "text/plain": [
       "True"
      ]
     },
     "execution_count": 82,
     "metadata": {},
     "output_type": "execute_result"
    }
   ],
   "source": [
    "title = \"Welcome You All\"\n",
    "title.istitle()"
   ]
  },
  {
   "cell_type": "code",
   "execution_count": null,
   "id": "591caaac-954c-4db3-a8e8-31af93d20629",
   "metadata": {},
   "outputs": [],
   "source": [
    "#syntax - string.isupper()\n",
    "#The isupper() method returns:\n",
    "#True if all characters in a string are uppercase characters\n",
    "#False if any characters in a string are lowercase characters"
   ]
  },
  {
   "cell_type": "code",
   "execution_count": 85,
   "id": "6c0054d5-6a8b-430e-b958-40256366d88a",
   "metadata": {},
   "outputs": [
    {
     "name": "stdout",
     "output_type": "stream",
     "text": [
      "True\n"
     ]
    }
   ],
   "source": [
    "string = \"WELCOME YOU ALL\"\n",
    "print(string.isupper())"
   ]
  },
  {
   "cell_type": "code",
   "execution_count": 86,
   "id": "cceaa064-8c9b-472c-936a-165c335b6916",
   "metadata": {},
   "outputs": [
    {
     "name": "stdout",
     "output_type": "stream",
     "text": [
      "False\n"
     ]
    }
   ],
   "source": [
    "string = \"Welcome You All\"\n",
    "print(string.isupper())"
   ]
  },
  {
   "cell_type": "code",
   "execution_count": null,
   "id": "2928e9e7-15ff-4feb-bbbb-2cb61fe1d394",
   "metadata": {},
   "outputs": [],
   "source": [
    "#syntax - string.join(iterable)\n",
    "#The join() method takes an iterable (objects capable of returning its members one at a time) as its parameter.\n",
    "#Some of the example of iterables are:\n",
    "#Native data types - List, Tuple, String, Dictionary and Set.\n",
    "#File objects and objects you define with an __iter__() or __getitem()__ method."
   ]
  },
  {
   "cell_type": "code",
   "execution_count": 93,
   "id": "f53b454e-c659-4d78-991c-8b48771ea7e9",
   "metadata": {},
   "outputs": [
    {
     "name": "stdout",
     "output_type": "stream",
     "text": [
      "whatisyourname?\n"
     ]
    }
   ],
   "source": [
    "text = ['what', 'is', 'your', 'name', '?'] \n",
    "print(''.join(text))"
   ]
  },
  {
   "cell_type": "code",
   "execution_count": 94,
   "id": "13c13975-c5ec-43c5-99ad-03bc58ea7d9c",
   "metadata": {},
   "outputs": [
    {
     "name": "stdout",
     "output_type": "stream",
     "text": [
      "1, 2, 3, 4\n"
     ]
    }
   ],
   "source": [
    "list = ['1', '2', '3', '4']\n",
    "separator = ', '\n",
    "print(separator.join(list))"
   ]
  },
  {
   "cell_type": "code",
   "execution_count": null,
   "id": "0862ebb6-4b80-43a0-9142-a2a8af011c95",
   "metadata": {},
   "outputs": [],
   "source": [
    "#syntax - string.ljust(width[, fillchar])\n",
    "#ljust() method takes two parameters:\n",
    "#width - width of the given string. If width is less than or equal to the length of the string, the original string is returned.\n",
    "#fillchar (Optional) - character to fill the remaining space of the width"
   ]
  },
  {
   "cell_type": "code",
   "execution_count": 98,
   "id": "378a29d6-2294-43bb-8033-5a6355ae20e5",
   "metadata": {},
   "outputs": [
    {
     "name": "stdout",
     "output_type": "stream",
     "text": [
      "sun***\n"
     ]
    }
   ],
   "source": [
    "string = 'sun'\n",
    "width =6\n",
    "fillchar = '*'\n",
    "print(string.ljust(width,fillchar))"
   ]
  },
  {
   "cell_type": "code",
   "execution_count": 100,
   "id": "5a4e1b60-0349-42b0-bb61-722ebd113f3e",
   "metadata": {},
   "outputs": [
    {
     "name": "stdout",
     "output_type": "stream",
     "text": [
      "cat    \n"
     ]
    }
   ],
   "source": [
    "string = 'cat'\n",
    "width = 7\n",
    "print(string.ljust(width))"
   ]
  },
  {
   "cell_type": "code",
   "execution_count": null,
   "id": "9b2de8cd-7351-41cf-b310-51f9c557ba24",
   "metadata": {},
   "outputs": [],
   "source": [
    "#The rjust() method right aligns the string up to a given width using a specified character.\n",
    "#syntax - string.rjust(width,[fillchar])\n",
    "#The rjust() method can take two parameters:\n",
    "#width - width of the given string\n",
    "#fillchar(Optional) - character to fill the remaining space of the width"
   ]
  },
  {
   "cell_type": "code",
   "execution_count": 103,
   "id": "eed20c9e-4aa2-420f-a607-4a4109de1495",
   "metadata": {},
   "outputs": [
    {
     "data": {
      "text/plain": [
       "'**whatever'"
      ]
     },
     "execution_count": 103,
     "metadata": {},
     "output_type": "execute_result"
    }
   ],
   "source": [
    "text = 'whatever' \n",
    "text.rjust(10,'*')"
   ]
  },
  {
   "cell_type": "code",
   "execution_count": 105,
   "id": "ddffde75-1f53-493a-9bce-3e73c998a707",
   "metadata": {},
   "outputs": [
    {
     "data": {
      "text/plain": [
       "'$$$$$money'"
      ]
     },
     "execution_count": 105,
     "metadata": {},
     "output_type": "execute_result"
    }
   ],
   "source": [
    "text = 'money'\n",
    "text.rjust(10,'$')"
   ]
  },
  {
   "cell_type": "code",
   "execution_count": 19,
   "id": "9465eaeb-3952-4655-bacd-ebda8b2896c5",
   "metadata": {},
   "outputs": [],
   "source": [
    "#syntax - string.lower()\n",
    "#The lower() method converts all uppercase characters in a string into lowercase characters and returns it."
   ]
  },
  {
   "cell_type": "code",
   "execution_count": 107,
   "id": "b59078be-2f23-4dbf-9e5f-855147b99ee8",
   "metadata": {},
   "outputs": [
    {
     "name": "stdout",
     "output_type": "stream",
     "text": [
      "excellent\n"
     ]
    }
   ],
   "source": [
    "message = 'EXCELLENT'   #lower()\n",
    "print(message.lower())"
   ]
  },
  {
   "cell_type": "code",
   "execution_count": 108,
   "id": "2d0f8fbb-09ab-4e2d-9c7f-6c48bdb88d9f",
   "metadata": {},
   "outputs": [
    {
     "name": "stdout",
     "output_type": "stream",
     "text": [
      "excellent\n"
     ]
    }
   ],
   "source": [
    "message = 'ExCeLlEnT'   \n",
    "print(message.lower())"
   ]
  },
  {
   "cell_type": "code",
   "execution_count": 20,
   "id": "9c978a8e-d7dd-4d22-8b27-d9d1f4aad2ed",
   "metadata": {},
   "outputs": [],
   "source": [
    "#The upper() method converts all lowercase characters in a string into uppercase characters and returns it.\n",
    "#string.upper()"
   ]
  },
  {
   "cell_type": "code",
   "execution_count": 109,
   "id": "1bccd7c5-79f7-4fcb-9bd2-bc34751e5338",
   "metadata": {},
   "outputs": [
    {
     "name": "stdout",
     "output_type": "stream",
     "text": [
      "EXCELLENT\n"
     ]
    }
   ],
   "source": [
    "message = 'ExCeLlEnT'\n",
    "print(message.upper())"
   ]
  },
  {
   "cell_type": "code",
   "execution_count": 110,
   "id": "e20cb817-51fc-4aa5-ad63-afc5957e3ec2",
   "metadata": {},
   "outputs": [
    {
     "name": "stdout",
     "output_type": "stream",
     "text": [
      "EXCELLENT\n"
     ]
    }
   ],
   "source": [
    "message = 'excellent'  \n",
    "print(message.upper())"
   ]
  },
  {
   "cell_type": "code",
   "execution_count": null,
   "id": "19e68257-80f6-4329-8d22-7a1cca79161b",
   "metadata": {},
   "outputs": [],
   "source": [
    "#The swapcase() method returns the string by converting all the characters to their opposite letter case( uppercase to lowercase and vice versa).\n",
    "#string.swapcase()"
   ]
  },
  {
   "cell_type": "code",
   "execution_count": 112,
   "id": "774295a8-2c81-4cd6-9d2c-5d91b77d1902",
   "metadata": {},
   "outputs": [
    {
     "name": "stdout",
     "output_type": "stream",
     "text": [
      "bALA mURUGAN\n"
     ]
    }
   ],
   "source": [
    "name = 'Bala Murugan' \n",
    "print(name.swapcase())"
   ]
  },
  {
   "cell_type": "code",
   "execution_count": 114,
   "id": "8f6ed46c-38d0-49ed-aa8e-b07614a8801f",
   "metadata": {},
   "outputs": [
    {
     "name": "stdout",
     "output_type": "stream",
     "text": [
      "ExCeLlEnT\n"
     ]
    }
   ],
   "source": [
    "message = 'ExCeLlEnT'\n",
    "print(message.swapcase().swapcase())"
   ]
  },
  {
   "cell_type": "code",
   "execution_count": null,
   "id": "58a630f5-e4e5-4e29-93bf-08dc030cae29",
   "metadata": {},
   "outputs": [],
   "source": [
    "#The lstrip() removes characters from the left based on the argument (a string specifying the set of characters to be removed).\n",
    "#string.lstrip([chars])"
   ]
  },
  {
   "cell_type": "code",
   "execution_count": 117,
   "id": "0aa0653a-91e2-45c2-bd0c-47fbba6eaba7",
   "metadata": {},
   "outputs": [
    {
     "name": "stdout",
     "output_type": "stream",
     "text": [
      "Be still\n"
     ]
    }
   ],
   "source": [
    "string = '    Be still'   \n",
    "print(string.lstrip())"
   ]
  },
  {
   "cell_type": "code",
   "execution_count": 120,
   "id": "7fb4d0c3-e674-45ae-8d7d-51addbc2c907",
   "metadata": {},
   "outputs": [
    {
     "name": "stdout",
     "output_type": "stream",
     "text": [
      " still\n"
     ]
    }
   ],
   "source": [
    "string = 'Be still'\n",
    "print(string.lstrip('Be'))"
   ]
  },
  {
   "cell_type": "code",
   "execution_count": null,
   "id": "0067df64-fbce-48f3-a921-a54a5aa6ff11",
   "metadata": {},
   "outputs": [],
   "source": [
    "#syntax - str.rsplit([separator [, maxsplit]])\n",
    "#rsplit() method takes maximum of 2 parameters:\n",
    "#separator (optional)- The is a delimiter. rsplit() method splits string starting from the right at the specified separator.\n",
    "#If the separator is not specified, any whitespace (space, newline etc.) string is a separator.\n",
    "#maxsplit (optional) - The maxsplit defines the maximum number of splits.\n",
    "#The default value of maxsplit is -1, meaning, no limit on the number of splits."
   ]
  },
  {
   "cell_type": "code",
   "execution_count": 123,
   "id": "d9c1ccc6-0d42-42c4-a48d-4851e1263449",
   "metadata": {},
   "outputs": [
    {
     "name": "stdout",
     "output_type": "stream",
     "text": [
      "Be still\n"
     ]
    }
   ],
   "source": [
    "string = 'Be still    '   \n",
    "print(string.rstrip())"
   ]
  },
  {
   "cell_type": "code",
   "execution_count": 124,
   "id": "bd1df798-5493-43d8-8090-f74b23fceb20",
   "metadata": {},
   "outputs": [
    {
     "name": "stdout",
     "output_type": "stream",
     "text": [
      "Be \n"
     ]
    }
   ],
   "source": [
    "string = 'Be still'  \n",
    "print(string.rstrip('still'))"
   ]
  },
  {
   "cell_type": "code",
   "execution_count": null,
   "id": "82b611b2-7238-4562-a9ce-f7236880d819",
   "metadata": {},
   "outputs": [],
   "source": [
    "#The strip() method returns a copy of the string by removing both the leading and the trailing characters (based on the string argument passed).\n",
    "#string.strip([chars])"
   ]
  },
  {
   "cell_type": "code",
   "execution_count": 125,
   "id": "e1b762d9-bcde-44a4-ab01-977cb4910d90",
   "metadata": {},
   "outputs": [
    {
     "name": "stdout",
     "output_type": "stream",
     "text": [
      "Be still\n"
     ]
    }
   ],
   "source": [
    "string = '    Be still     '\n",
    "print(string.strip())"
   ]
  },
  {
   "cell_type": "code",
   "execution_count": 130,
   "id": "f716d3ac-9bc6-4e5a-bfcb-a6eeafd4f5db",
   "metadata": {},
   "outputs": [
    {
     "name": "stdout",
     "output_type": "stream",
     "text": [
      "e sti\n"
     ]
    }
   ],
   "source": [
    "string = 'Be still'\n",
    "print(string.strip('Bl'))"
   ]
  },
  {
   "cell_type": "code",
   "execution_count": null,
   "id": "0b66a2bb-3e19-4fc9-a34d-37db46467684",
   "metadata": {},
   "outputs": [],
   "source": [
    "#syntax - string.partition(separator)\n",
    "#The partition method returns a 3-tuple containing:\n",
    "#the part before the separator, separator parameter, and the part after the separator if the separator parameter is found in the string\n",
    "#the string itself and two empty strings if the separator parameter is not found"
   ]
  },
  {
   "cell_type": "code",
   "execution_count": 135,
   "id": "c04d6699-5420-4422-9b64-a402fb4e281b",
   "metadata": {},
   "outputs": [
    {
     "name": "stdout",
     "output_type": "stream",
     "text": [
      "('WELLCOME ', 'YOU', ' ALL')\n"
     ]
    }
   ],
   "source": [
    "string = \"WELCOME YOU ALL\"    \n",
    "print(string.partition('YOU'))"
   ]
  },
  {
   "cell_type": "code",
   "execution_count": 142,
   "id": "9b913632-4c4e-46cd-a000-129fef80000b",
   "metadata": {},
   "outputs": [
    {
     "name": "stdout",
     "output_type": "stream",
     "text": [
      "(\"I'm\", ' ', 'Yogesh')\n"
     ]
    }
   ],
   "source": [
    "string = \"I'm Yogesh\"   \n",
    "print(string.partition(' '))"
   ]
  },
  {
   "cell_type": "code",
   "execution_count": null,
   "id": "c252711d-e034-47f4-aa65-36bf9755ff92",
   "metadata": {},
   "outputs": [],
   "source": [
    "#syntax - string.maketrans(x[, y[, z]])\n",
    "#maketrans() method takes 3 parameters:\n",
    "#x - If only one argument is supplied, it must be a dictionary.\n",
    "#The dictionary should contain a 1-to-1 mapping from a single character string to its translation OR a Unicode number (97 for 'a') to its translation.\n",
    "#y - If two arguments are passed, it must be two strings with equal length.\n",
    "#Each character in the first string is a replacement to its corresponding index in the second string.\n",
    "#z - If three arguments are passed, each character in the third argument is mapped to Non"
   ]
  },
  {
   "cell_type": "code",
   "execution_count": 145,
   "id": "8a906767-d344-4199-947e-6c2255c2bf03",
   "metadata": {},
   "outputs": [
    {
     "name": "stdout",
     "output_type": "stream",
     "text": [
      "{97: '123', 98: '456', 99: '789'}\n"
     ]
    }
   ],
   "source": [
    "string1 = {\"a\": \"123\", \"b\": \"456\", \"c\": \"789\"} \n",
    "string2= \"abc\"\n",
    "print(string2.maketrans(string1))"
   ]
  },
  {
   "cell_type": "code",
   "execution_count": 147,
   "id": "ea9067fd-f3df-4ede-97ba-3a3fe9f85d81",
   "metadata": {},
   "outputs": [
    {
     "name": "stdout",
     "output_type": "stream",
     "text": [
      "{97: 100, 98: 101, 99: 102}\n"
     ]
    }
   ],
   "source": [
    "firstString = \"abc\"\n",
    "secondString = \"def\"\n",
    "string = \"abc\"\n",
    "print(string.maketrans(firstString, secondString))"
   ]
  },
  {
   "cell_type": "code",
   "execution_count": 163,
   "id": "6355559b-31b1-4a46-aa68-790e61e097ba",
   "metadata": {},
   "outputs": [
    {
     "name": "stdout",
     "output_type": "stream",
     "text": [
      "Original string: abcdefghi\n",
      "translated string: defdef\n"
     ]
    }
   ],
   "source": [
    "firststring = 'abc' \n",
    "secondstring = 'def'\n",
    "thirdstring = 'ghi'\n",
    "string = 'abcdefghi'\n",
    "print(\"Original string:\",string)\n",
    "translation = string.maketrans(firststring, secondstring, thirdstring)\n",
    "print(\"translated string:\",string.translate(translation))"
   ]
  },
  {
   "cell_type": "code",
   "execution_count": null,
   "id": "c096ebb8-cacb-437d-8153-e9fb86d7ca99",
   "metadata": {},
   "outputs": [],
   "source": [
    "#syntax - string.rpartition(separator)\n",
    "#rpartition() method returns a 3-tuple containing:\n",
    "#the part before the separator, separator parameter, and the part after the separator if the separator parameter is found in the string\n",
    "#two empty strings, followed by the string itself if the separator parameter is not found"
   ]
  },
  {
   "cell_type": "code",
   "execution_count": 150,
   "id": "aa6e6431-1396-4502-8b06-4582376f605e",
   "metadata": {},
   "outputs": [
    {
     "name": "stdout",
     "output_type": "stream",
     "text": [
      "('WELLCOME ', 'YOU ', 'ALL')\n"
     ]
    }
   ],
   "source": [
    "string = \"WELCOME YOU ALL\"    \n",
    "print(string.rpartition('YOU '))"
   ]
  },
  {
   "cell_type": "code",
   "execution_count": 153,
   "id": "5ff53055-37ee-47c5-aa2c-74e3e7be9115",
   "metadata": {},
   "outputs": [
    {
     "name": "stdout",
     "output_type": "stream",
     "text": [
      "('', '', 'WELLCOME YOU ALL')\n"
     ]
    }
   ],
   "source": [
    "string = \"WELCOME YOU ALL\"    \n",
    "print(string.rpartition(','))"
   ]
  },
  {
   "cell_type": "code",
   "execution_count": null,
   "id": "a63fa62c-ebf4-4f32-9c44-89be3f210c2b",
   "metadata": {},
   "outputs": [],
   "source": [
    "#syntax - str.replace(old, new [, count]) \n",
    "#The replace() method can take a maximum of three arguments:\n",
    "#old - the old substring we want to replace\n",
    "#new - new substring which will replace the old substring\n",
    "#count (optional) - the number of times you want to replace the old substring with the new string"
   ]
  },
  {
   "cell_type": "code",
   "execution_count": 165,
   "id": "c5955846-b11c-45aa-bd29-e7af6a1c7853",
   "metadata": {},
   "outputs": [
    {
     "data": {
      "text/plain": [
       "'fun'"
      ]
     },
     "execution_count": 165,
     "metadata": {},
     "output_type": "execute_result"
    }
   ],
   "source": [
    "input = 'sun'       \n",
    "input.replace('s','f')"
   ]
  },
  {
   "cell_type": "code",
   "execution_count": 171,
   "id": "941f5c6d-2229-4190-bfae-caa4e5d28e92",
   "metadata": {},
   "outputs": [
    {
     "data": {
      "text/plain": [
       "'fun, fun, sun, sun'"
      ]
     },
     "execution_count": 171,
     "metadata": {},
     "output_type": "execute_result"
    }
   ],
   "source": [
    "input = 'sun, sun, sun, sun'\n",
    "input.replace('s','f',2)"
   ]
  },
  {
   "cell_type": "code",
   "execution_count": null,
   "id": "39c5333d-343b-4d88-83dd-7f75b99bffc9",
   "metadata": {},
   "outputs": [],
   "source": [
    "#syntax - str.rfind(sub[, start[, end]] )\n",
    "#rfind() method takes a maximum of three parameters:\n",
    "#sub - It's the substring to be searched in the str string.\n",
    "#start and end (optional) - substring is searched within str[start:end]\n",
    "#rfind() method returns an integer value.\n",
    "##If substring doesn't exist inside the string, it returns -1."
   ]
  },
  {
   "cell_type": "code",
   "execution_count": 173,
   "id": "773c420f-bca0-43b7-9f11-bca098873698",
   "metadata": {},
   "outputs": [
    {
     "name": "stdout",
     "output_type": "stream",
     "text": [
      "12\n"
     ]
    }
   ],
   "source": [
    "input = 'sucess is a state of mind'  \n",
    "print(input.rfind('state'))"
   ]
  },
  {
   "cell_type": "code",
   "execution_count": 175,
   "id": "d519ff31-6c49-455c-b231-79b2e56adea3",
   "metadata": {},
   "outputs": [
    {
     "name": "stdout",
     "output_type": "stream",
     "text": [
      "-1\n"
     ]
    }
   ],
   "source": [
    "input = 'sucess is a state of mind'\n",
    "print(input.rfind('A'))"
   ]
  },
  {
   "cell_type": "code",
   "execution_count": null,
   "id": "d05b2dab-17e2-4534-a76b-b2c0e2df4d63",
   "metadata": {},
   "outputs": [],
   "source": [
    "#syntax - str.rindex(sub[, start[, end]] )\n",
    "#rindex() method takes three parameters:\n",
    "#sub - substring to be searched in the str string.\n",
    "#start and end(optional) - substring is searched within str[start:end]\n",
    "#If substring exists inside the string, it returns the highest index in the string where the substring is found.\n",
    "#If substring doesn't exist inside the string, it raises a ValueError exception"
   ]
  },
  {
   "cell_type": "code",
   "execution_count": 177,
   "id": "120b4c94-10d3-48e0-bbec-66ac3b84df14",
   "metadata": {},
   "outputs": [
    {
     "name": "stdout",
     "output_type": "stream",
     "text": [
      "12\n"
     ]
    }
   ],
   "source": [
    "input = 'sucess is a state of mind'\n",
    "print(input.rindex('state'))"
   ]
  },
  {
   "cell_type": "code",
   "execution_count": 178,
   "id": "b3d0b821-16c0-40fd-8bb2-3489eac4bbec",
   "metadata": {},
   "outputs": [
    {
     "name": "stdout",
     "output_type": "stream",
     "text": [
      "16\n"
     ]
    }
   ],
   "source": [
    "input = 'sucess is a state of mind' \n",
    "print(input.rindex('e',7,18))"
   ]
  },
  {
   "cell_type": "code",
   "execution_count": null,
   "id": "63e88afb-ca92-4de2-ae83-867bbc3b54d6",
   "metadata": {},
   "outputs": [],
   "source": [
    "#syntax - str.split(separator, maxsplit)\n",
    "#The split() method takes a maximum of 2 parameters:\n",
    "#separator (optional)- Delimiter at which splits occur. If not provided, the string is splitted at whitespaces.\n",
    "#maxsplit (optional) - Maximum number of splits. If not provided, there is no limit on the number of splits."
   ]
  },
  {
   "cell_type": "code",
   "execution_count": 182,
   "id": "ff4064f5-cd93-447a-948f-05beb8ae22a9",
   "metadata": {},
   "outputs": [
    {
     "data": {
      "text/plain": [
       "['neem', 'mango', 'pappaya', 'coco']"
      ]
     },
     "execution_count": 182,
     "metadata": {},
     "output_type": "execute_result"
    }
   ],
   "source": [
    "tree = 'neem-mango-pappaya-coco'   \n",
    "tree.split('-')"
   ]
  },
  {
   "cell_type": "code",
   "execution_count": 187,
   "id": "65b7ae9d-fff9-4655-8cc6-8709c8ae9c51",
   "metadata": {},
   "outputs": [
    {
     "data": {
      "text/plain": [
       "['neem,mango', 'pappaya,coco']"
      ]
     },
     "execution_count": 187,
     "metadata": {},
     "output_type": "execute_result"
    }
   ],
   "source": [
    "tree = 'neem,mango-pappaya,coco'\n",
    "tree.split('-')"
   ]
  },
  {
   "cell_type": "code",
   "execution_count": null,
   "id": "232bd6a8-196f-4b78-9de5-81ea4be16781",
   "metadata": {},
   "outputs": [],
   "source": [
    "#syntax - str.rsplit([separator [, maxsplit]])\n",
    "#rsplit() method takes maximum of 2 parameters:\n",
    "#separator (optional)- The is a delimiter. rsplit() method splits string starting from the right at the specified separator.\n",
    "#If the separator is not specified, any whitespace (space, newline etc.) string is a separator.\n",
    "#maxsplit (optional) - The maxsplit defines the maximum number of splits.\n",
    "#The default value of maxsplit is -1, meaning, no limit on the number of splits."
   ]
  },
  {
   "cell_type": "code",
   "execution_count": 21,
   "id": "7a7e9d4b-6933-4f02-94ca-102f9d7f6bfe",
   "metadata": {},
   "outputs": [
    {
     "data": {
      "text/plain": [
       "['neem-mango-pappaya', 'coco']"
      ]
     },
     "execution_count": 21,
     "metadata": {},
     "output_type": "execute_result"
    }
   ],
   "source": [
    "tree = 'neem-mango-pappaya-coco'   \n",
    "tree.rsplit('-',1)"
   ]
  },
  {
   "cell_type": "code",
   "execution_count": 22,
   "id": "304c1c72-0054-450a-8b71-7df1d708ab0c",
   "metadata": {},
   "outputs": [
    {
     "name": "stdout",
     "output_type": "stream",
     "text": [
      "['Milk', 'Chicken', 'Bread']\n"
     ]
    }
   ],
   "source": [
    "grocery = 'Milk, Chicken, Bread'\n",
    "print(grocery.rsplit(', '))"
   ]
  },
  {
   "cell_type": "code",
   "execution_count": null,
   "id": "2e676552-d09e-403a-b053-1e1f1ed85337",
   "metadata": {},
   "outputs": [],
   "source": [
    "#syntax - string.splitlines([keepends])\n",
    "#The splitlines() method can take a single parameter:\n",
    "#keepends(optional) - it determines whether line breaks are included in the resulting list or not. It's value can be True or any number.\n",
    "#Representation\tDescription\n",
    "#\\n\tLine Feed\n",
    "#\\r\tCarriage Return\n",
    "#\\r\\n\tCarriage Return + Line Feed\n",
    "#\\v or \\x0b\tLine Tabulation\n",
    "#\\f or \\x0c\tForm Feed\n",
    "#\\x1c\tFile Separator\n",
    "#\\x1d\tGroup Separator\n",
    "#\\x1e\tRecord Separator\n",
    "#\\x85\tNext Line (C1 Control Code)\n",
    "#\\u2028\tLine Separator\n",
    "#\\u2029\tParagraph Separator"
   ]
  },
  {
   "cell_type": "code",
   "execution_count": 193,
   "id": "4375bb0e-0dbd-4b2f-b890-43b7c43988cd",
   "metadata": {},
   "outputs": [
    {
     "data": {
      "text/plain": [
       "['I', 'can', 'do', 'it.']"
      ]
     },
     "execution_count": 193,
     "metadata": {},
     "output_type": "execute_result"
    }
   ],
   "source": [
    "text = 'I\\ncan\\ndo\\nit.'   \n",
    "text.splitlines()"
   ]
  },
  {
   "cell_type": "code",
   "execution_count": 194,
   "id": "58c79115-387b-44e4-8bd3-50f8e23da3c4",
   "metadata": {},
   "outputs": [
    {
     "data": {
      "text/plain": [
       "['I', 'CAN', 'DO', 'IT']"
      ]
     },
     "execution_count": 194,
     "metadata": {},
     "output_type": "execute_result"
    }
   ],
   "source": [
    "text = '''I\n",
    "CAN\n",
    "DO\n",
    "IT'''\n",
    "text.splitlines()"
   ]
  },
  {
   "cell_type": "code",
   "execution_count": null,
   "id": "00514297-95d7-46ff-8174-f96ac3440099",
   "metadata": {},
   "outputs": [],
   "source": [
    "#syntax - str.startswith(prefix[, start[, end]])\n",
    "#startswith() method takes a maximum of three parameters:\n",
    "#prefix - String or tuple of strings to be checked\n",
    "#start (optional) - Beginning position where prefix is to be checked within the string.\n",
    "#end (optional) - Ending position where prefix is to be checked within the string."
   ]
  },
  {
   "cell_type": "code",
   "execution_count": 197,
   "id": "a3a545d4-0fec-4c02-921f-a3dbb82143ac",
   "metadata": {},
   "outputs": [
    {
     "data": {
      "text/plain": [
       "True"
      ]
     },
     "execution_count": 197,
     "metadata": {},
     "output_type": "execute_result"
    }
   ],
   "source": [
    "text = \"I had an delightful lunch\"  \n",
    "text.startswith('I')"
   ]
  },
  {
   "cell_type": "code",
   "execution_count": 199,
   "id": "69825723-20d4-4e68-aff2-55da3057d5b7",
   "metadata": {},
   "outputs": [
    {
     "data": {
      "text/plain": [
       "True"
      ]
     },
     "execution_count": 199,
     "metadata": {},
     "output_type": "execute_result"
    }
   ],
   "source": [
    "text = \" I had an delightful lunch\"  \n",
    "text.startswith(' ')"
   ]
  },
  {
   "cell_type": "code",
   "execution_count": null,
   "id": "2492e239-aa04-45e9-a16c-57b2707d8877",
   "metadata": {},
   "outputs": [],
   "source": [
    "#syntax - str.endswith(suffix[, start[, end]])\n",
    "#The endswith() takes three parameters:\n",
    "#suffix - String or tuple of suffixes to be checked\n",
    "#start (optional) - Beginning position where suffix is to be checked within the string.\n",
    "#end (optional) - Ending position where suffix is to be checked within the string.\n",
    "#The endswith() method returns a boolean.\n",
    "#It returns True if a string ends with the specified suffix.\n",
    "#It returns False if a string doesn't end with the specified suffix."
   ]
  },
  {
   "cell_type": "code",
   "execution_count": 203,
   "id": "48b0339e-aa65-4bbf-9f31-54b90ddea01f",
   "metadata": {},
   "outputs": [
    {
     "data": {
      "text/plain": [
       "True"
      ]
     },
     "execution_count": 203,
     "metadata": {},
     "output_type": "execute_result"
    }
   ],
   "source": [
    "text = \"I had an delightful lunch\"  \n",
    "text.endswith('lunch')"
   ]
  },
  {
   "cell_type": "code",
   "execution_count": 204,
   "id": "7b2c534b-a9b0-4481-8d70-2e44f3418cac",
   "metadata": {},
   "outputs": [
    {
     "data": {
      "text/plain": [
       "False"
      ]
     },
     "execution_count": 204,
     "metadata": {},
     "output_type": "execute_result"
    }
   ],
   "source": [
    "text = \"I had an delightful lunch\"  \n",
    "text.endswith('\"')"
   ]
  },
  {
   "cell_type": "code",
   "execution_count": null,
   "id": "582ec62d-9673-49a8-a85d-12481b2b8aa0",
   "metadata": {},
   "outputs": [],
   "source": [
    "#syntax - str.zfill(width)\n",
    "#The width specifies the length of the returned string from zfill() with 0 digits filled to the left.\n",
    "#zfill() returns a copy of the string with 0 filled to the left. The length of the returned string depends on the width provided.\n",
    "#Suppose, the initial length of the string is 10. And, the width is specified 15. In this case, zfill() returns a copy of the string with five '0' digits filled to the left.\n",
    "#Suppose, the initial length of the string is 10. And, the width is specified 8. In this case, zfill() doesn't fill '0' digits to the left and returns a copy of the original string. The length of the returned string in this case will be 10."
   ]
  },
  {
   "cell_type": "code",
   "execution_count": 208,
   "id": "23072f17-7859-41fe-aebe-f2be285017f9",
   "metadata": {},
   "outputs": [
    {
     "data": {
      "text/plain": [
       "'-0000555'"
      ]
     },
     "execution_count": 208,
     "metadata": {},
     "output_type": "execute_result"
    }
   ],
   "source": [
    "number = '-555'  \n",
    "number.zfill(8)"
   ]
  },
  {
   "cell_type": "code",
   "execution_count": 209,
   "id": "61695776-07d2-4e85-b403-6944d3054fc0",
   "metadata": {},
   "outputs": [
    {
     "data": {
      "text/plain": [
       "'00*55'"
      ]
     },
     "execution_count": 209,
     "metadata": {},
     "output_type": "execute_result"
    }
   ],
   "source": [
    "number = '*55'\n",
    "number.zfill(5)"
   ]
  },
  {
   "cell_type": "code",
   "execution_count": null,
   "id": "fbb2fcbd-c7ce-4f43-8e6f-23880674cbbb",
   "metadata": {},
   "outputs": [],
   "source": [
    "#syntax - str.format_map(mapping)\n",
    "#format_map() takes a single argument mapping(dictionary)."
   ]
  },
  {
   "cell_type": "code",
   "execution_count": 212,
   "id": "5c56770a-240c-42f7-8003-5d31be47e0b5",
   "metadata": {},
   "outputs": [
    {
     "name": "stdout",
     "output_type": "stream",
     "text": [
      "98 80 77\n"
     ]
    }
   ],
   "source": [
    "point = {'ravi':98,'pavan':80,'bob':77} \n",
    "print('{ravi} {pavan} {bob}'.format_map(point))"
   ]
  },
  {
   "cell_type": "code",
   "execution_count": 26,
   "id": "5fb2e3c8-8939-4454-920d-a4877d01ad27",
   "metadata": {},
   "outputs": [],
   "source": [
    " #remove()"
   ]
  },
  {
   "cell_type": "code",
   "execution_count": 225,
   "id": "73330810-d06a-4742-9153-de4b3f2ea6f7",
   "metadata": {},
   "outputs": [
    {
     "name": "stdout",
     "output_type": "stream",
     "text": [
      "{'Times of India', 'Indian Express', 'The Hindu'}\n"
     ]
    }
   ],
   "source": [
    "newspapers = {'The Hindu', 'Times of India','Indian Express','News Today'}\n",
    "newspapers.remove('News Today')\n",
    "print(newspapers)"
   ]
  },
  {
   "cell_type": "code",
   "execution_count": 25,
   "id": "e6220239-ada5-4794-b6ed-a6b765d8c9bf",
   "metadata": {},
   "outputs": [],
   "source": [
    "#add()"
   ]
  },
  {
   "cell_type": "code",
   "execution_count": 226,
   "id": "1166b027-a164-40db-9a77-5d75ce24de19",
   "metadata": {},
   "outputs": [
    {
     "name": "stdout",
     "output_type": "stream",
     "text": [
      "{'Times of India', 'Indian Express', 'The Hindu', 'News Today'}\n"
     ]
    }
   ],
   "source": [
    "newspapers = {'The Hindu', 'Times of India','Indian Express'}  \n",
    "newspapers.add('News Today')\n",
    "print(newspapers)"
   ]
  },
  {
   "cell_type": "code",
   "execution_count": 24,
   "id": "8f252b43-52e9-47a1-9298-9b26e809e9e5",
   "metadata": {},
   "outputs": [],
   "source": [
    " #copy()"
   ]
  },
  {
   "cell_type": "code",
   "execution_count": 227,
   "id": "70b5b5d8-1da5-484d-a013-31cdeccd4fd2",
   "metadata": {},
   "outputs": [
    {
     "name": "stdout",
     "output_type": "stream",
     "text": [
      "{'Times of India', 'Indian Express', 'The Hindu', 'News Today'}\n"
     ]
    }
   ],
   "source": [
    "papers = {'The Hindu', 'Times of India','Indian Express','News Today'} \n",
    "newspapers = papers.copy()\n",
    "print(newspapers)"
   ]
  },
  {
   "cell_type": "code",
   "execution_count": 27,
   "id": "d2484afb-14a9-4992-8bd9-904735ed5d77",
   "metadata": {},
   "outputs": [],
   "source": [
    "#clear()"
   ]
  },
  {
   "cell_type": "code",
   "execution_count": 228,
   "id": "d9f429f6-569c-4748-8fee-4e9cead7d6f3",
   "metadata": {},
   "outputs": [
    {
     "name": "stdout",
     "output_type": "stream",
     "text": [
      "None\n"
     ]
    }
   ],
   "source": [
    "papers = {'The Hindu', 'Times of India','Indian Express','News Today'} \n",
    "newspapers = papers.clear()\n",
    "print(newspapers)"
   ]
  },
  {
   "cell_type": "code",
   "execution_count": 28,
   "id": "0ce072c5-5d33-4d91-b5a4-44a715338764",
   "metadata": {},
   "outputs": [],
   "source": [
    "#setdifference()"
   ]
  },
  {
   "cell_type": "code",
   "execution_count": 232,
   "id": "672e8609-4c80-4752-bd3b-833222b52c41",
   "metadata": {},
   "outputs": [
    {
     "name": "stdout",
     "output_type": "stream",
     "text": [
      "{75, 4}\n"
     ]
    }
   ],
   "source": [
    "A = {5,75,98,99,4}   \n",
    "B = {5,65,98,99,7}\n",
    "print(A.difference(B))"
   ]
  },
  {
   "cell_type": "code",
   "execution_count": 29,
   "id": "3c28e400-978f-4c3e-a6a7-3a71ae48bdf7",
   "metadata": {},
   "outputs": [],
   "source": [
    "#interseciton()"
   ]
  },
  {
   "cell_type": "code",
   "execution_count": 30,
   "id": "6ea2e1a1-b723-4574-8772-714a369e18d7",
   "metadata": {},
   "outputs": [
    {
     "name": "stdout",
     "output_type": "stream",
     "text": [
      "{98, 99, 5}\n"
     ]
    }
   ],
   "source": [
    "A = {5,75,98,99,4}   \n",
    "B = {5,65,98,99,7}\n",
    "print(A.intersection(B))"
   ]
  },
  {
   "cell_type": "code",
   "execution_count": 30,
   "id": "cdff20ec-f862-4b4c-a798-80bc09515d0c",
   "metadata": {},
   "outputs": [
    {
     "name": "stdout",
     "output_type": "stream",
     "text": [
      "{98, 99, 5}\n"
     ]
    }
   ],
   "source": [
    "#discard()"
   ]
  },
  {
   "cell_type": "code",
   "execution_count": 241,
   "id": "a5f739da-a4dd-4ae9-8227-c16bede3371b",
   "metadata": {},
   "outputs": [
    {
     "name": "stdout",
     "output_type": "stream",
     "text": [
      "{98, 99, 4, 5, 75}\n"
     ]
    }
   ],
   "source": [
    "numbers = {5,75,98,99,4}  \n",
    "numbers.discard('98')\n",
    "print(numbers)"
   ]
  },
  {
   "cell_type": "code",
   "execution_count": 31,
   "id": "ef1a6404-7391-4ef2-a493-b163bdf44fd4",
   "metadata": {},
   "outputs": [],
   "source": [
    " #isdisjoint()"
   ]
  },
  {
   "cell_type": "code",
   "execution_count": 242,
   "id": "4375195c-2ded-47a2-b70c-7da95955c234",
   "metadata": {},
   "outputs": [
    {
     "data": {
      "text/plain": [
       "False"
      ]
     },
     "execution_count": 242,
     "metadata": {},
     "output_type": "execute_result"
    }
   ],
   "source": [
    "A = {5,75,98,99,4}  \n",
    "B = {5,65,98,99,7}\n",
    "A.isdisjoint(B)"
   ]
  },
  {
   "cell_type": "code",
   "execution_count": 32,
   "id": "ba1215b7-9fc8-46b8-9322-85c0ed25a5e4",
   "metadata": {},
   "outputs": [],
   "source": [
    "#issubset()"
   ]
  },
  {
   "cell_type": "code",
   "execution_count": 244,
   "id": "f5039185-449f-4b6f-b0e5-77857936b73d",
   "metadata": {},
   "outputs": [
    {
     "data": {
      "text/plain": [
       "True"
      ]
     },
     "execution_count": 244,
     "metadata": {},
     "output_type": "execute_result"
    }
   ],
   "source": [
    "A= {5,65,98,99,4}   \n",
    "B = {5,65,98,99,4,55}\n",
    "A.issubset(B)"
   ]
  },
  {
   "cell_type": "code",
   "execution_count": 33,
   "id": "017e94be-2124-4487-857d-44f3fb421b16",
   "metadata": {},
   "outputs": [],
   "source": [
    "#pop()"
   ]
  },
  {
   "cell_type": "code",
   "execution_count": 245,
   "id": "5805de24-e491-45f0-b3e8-3eb93c05e67a",
   "metadata": {},
   "outputs": [
    {
     "data": {
      "text/plain": [
       "98"
      ]
     },
     "execution_count": 245,
     "metadata": {},
     "output_type": "execute_result"
    }
   ],
   "source": [
    "numbers = {5,75,98,99,4}\n",
    "numbers.pop()"
   ]
  },
  {
   "cell_type": "code",
   "execution_count": 34,
   "id": "8dd21aa0-38d9-467f-80d4-e0c926dc54c8",
   "metadata": {},
   "outputs": [],
   "source": [
    "#syntax - string.expandtabs(tabsize)\n",
    "#The expandtabs() takes an integer tabsize argument. The default tabsize is 8.\n",
    "#The expandtabs() returns a string where all '\\t' characters are replaced with whitespace characters until the next multiple of tabsize parameter."
   ]
  },
  {
   "cell_type": "code",
   "execution_count": 35,
   "id": "1ae1a602-33e1-4e30-a06b-aa37b2db2d7e",
   "metadata": {},
   "outputs": [
    {
     "name": "stdout",
     "output_type": "stream",
     "text": [
      "xyz     12345   abc\n"
     ]
    }
   ],
   "source": [
    "str = 'xyz\\t12345\\tabc'\n",
    "result = str.expandtabs()\n",
    "print(result)"
   ]
  },
  {
   "cell_type": "code",
   "execution_count": 36,
   "id": "0bd18f3c-f6e3-49af-a7a3-34a53f7078dc",
   "metadata": {},
   "outputs": [
    {
     "name": "stdout",
     "output_type": "stream",
     "text": [
      "Tabsize 3: xyz   12345 abc\n"
     ]
    }
   ],
   "source": [
    "str = \"xyz\\t12345\\tabc\"\n",
    "print('Tabsize 3:', str.expandtabs(3))"
   ]
  },
  {
   "cell_type": "code",
   "execution_count": null,
   "id": "4a9ba5b6-64f4-444e-a7ae-ec1dbe051b5b",
   "metadata": {},
   "outputs": [],
   "source": []
  }
 ],
 "metadata": {
  "kernelspec": {
   "display_name": "Python 3 (ipykernel)",
   "language": "python",
   "name": "python3"
  },
  "language_info": {
   "codemirror_mode": {
    "name": "ipython",
    "version": 3
   },
   "file_extension": ".py",
   "mimetype": "text/x-python",
   "name": "python",
   "nbconvert_exporter": "python",
   "pygments_lexer": "ipython3",
   "version": "3.12.0"
  }
 },
 "nbformat": 4,
 "nbformat_minor": 5
}
