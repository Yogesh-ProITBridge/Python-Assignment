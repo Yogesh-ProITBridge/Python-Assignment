{
 "cells": [
  {
   "cell_type": "markdown",
   "id": "10029fc1-d388-44d8-9623-749a41acff0b",
   "metadata": {},
   "source": [
    "# comeup with one example for all data structure"
   ]
  },
  {
   "cell_type": "markdown",
   "id": "cc9b98ed-bacb-4f78-9965-39fe53d715ad",
   "metadata": {},
   "source": [
    "## 1 List"
   ]
  },
  {
   "cell_type": "code",
   "execution_count": 28,
   "id": "fa4704ba-d7e6-43f9-8e5e-b7e46c550349",
   "metadata": {},
   "outputs": [
    {
     "name": "stdout",
     "output_type": "stream",
     "text": [
      "Accessing element from the list\n",
      "arun\n",
      "shubendhu\n",
      "Accessing element using negative indexing\n",
      "shubendhu\n",
      "arun\n"
     ]
    }
   ],
   "source": [
    "List = [\"arun\", \"chandhen\", \"shubendhu\"]\n",
    "\n",
    "print(\"Accessing element from the list\")\n",
    "print(List[0])\n",
    "print(List[2])\n",
    "\n",
    "print(\"Accessing element using negative indexing\")\n",
    "print(List[-1])\n",
    "print(List[-3])\n"
   ]
  },
  {
   "cell_type": "code",
   "execution_count": 29,
   "id": "9948a43f-7467-45a9-9698-8ba70c0e6a84",
   "metadata": {},
   "outputs": [
    {
     "name": "stdout",
     "output_type": "stream",
     "text": [
      "[1, 'a', 'string', 3]\n"
     ]
    }
   ],
   "source": [
    "L = [1, \"a\" , \"string\" , 1+2]\n",
    "print (L)"
   ]
  },
  {
   "cell_type": "markdown",
   "id": "70a15676-c944-45c1-bd58-b2582289ba93",
   "metadata": {},
   "source": [
    "## 2 Dictionary"
   ]
  },
  {
   "cell_type": "code",
   "execution_count": 30,
   "id": "e4b1411d-db24-454d-8b99-64c1f0f9a744",
   "metadata": {},
   "outputs": [
    {
     "name": "stdout",
     "output_type": "stream",
     "text": [
      "{'toyoto': 'Supera', 'mazda': 'Rx 7', 'mustang': 'Shelby 1947', 'nissan': 'GT R'}\n"
     ]
    }
   ],
   "source": [
    "car_dict = {}\n",
    "car_dict['toyoto'] = 'Supera'\n",
    "car_dict['mazda'] = 'Rx 7'\n",
    "car_dict['mustang'] = 'Shelby 1947'\n",
    "car_dict['nissan'] = 'GT R'\n",
    "\n",
    "print(car_dict)\n"
   ]
  },
  {
   "cell_type": "code",
   "execution_count": null,
   "id": "ca21130b-e2cc-421b-8789-136fd9ddc9d2",
   "metadata": {},
   "outputs": [],
   "source": []
  },
  {
   "cell_type": "code",
   "execution_count": 33,
   "id": "fe9a397f-5c47-4c32-b126-e50162993933",
   "metadata": {},
   "outputs": [
    {
     "name": "stdout",
     "output_type": "stream",
     "text": [
      "{0: 'toyoto', 1: 'mazda', 2: 'nissan', 3: 'mustang'}\n"
     ]
    }
   ],
   "source": [
    "car_dict = {'toyoto', 'mazda', 'mustang', 'nissan'}\n",
    "car_dict = dict(enumerate(car_dict))\n",
    "print(car_dict)"
   ]
  },
  {
   "cell_type": "code",
   "execution_count": null,
   "id": "8941cea4-313b-43b3-86a3-80baa7358858",
   "metadata": {},
   "outputs": [],
   "source": []
  },
  {
   "cell_type": "code",
   "execution_count": 34,
   "id": "f24175da-eb13-4383-b943-9c0675037b4e",
   "metadata": {},
   "outputs": [
    {
     "name": "stdout",
     "output_type": "stream",
     "text": [
      "{'toyoto': 'Supera', 'mazda': 'Rx 7', 'mustang': 'Shelby 1947', 'nissan': 'GT R'}\n"
     ]
    }
   ],
   "source": [
    "car_dict1 = {'toyoto': 'Supera', 'mazda': 'Rx 7'}\n",
    "car_dict2 = {'mustang': 'Shelby 1947', 'nissan': 'GT R'}\n",
    "\n",
    "car_dict = (car_dict1 | car_dict2)\n",
    "print(car_dict)\n"
   ]
  },
  {
   "cell_type": "code",
   "execution_count": null,
   "id": "006a3456-a31a-4c31-9a82-29af7a14cf8d",
   "metadata": {},
   "outputs": [],
   "source": []
  },
  {
   "cell_type": "markdown",
   "id": "665c18a4-a74e-4503-9f79-2a07f8d8e19e",
   "metadata": {},
   "source": [
    "## 3 Set"
   ]
  },
  {
   "cell_type": "code",
   "execution_count": 37,
   "id": "1f890119-b9f5-494a-8ecf-c3a538b11811",
   "metadata": {},
   "outputs": [
    {
     "name": "stdout",
     "output_type": "stream",
     "text": [
      "{'harry', 'tom', 'jerry'}\n"
     ]
    }
   ],
   "source": [
    "myset = set([\"harry\", \"jerry\", \"tom\"])\n",
    "print(myset)"
   ]
  },
  {
   "cell_type": "code",
   "execution_count": 38,
   "id": "b985a095-19d9-4a73-a502-d63bb0f8cedd",
   "metadata": {},
   "outputs": [
    {
     "name": "stdout",
     "output_type": "stream",
     "text": [
      "cars: {'mazda', 'nissan', 'Supera'}\n"
     ]
    }
   ],
   "source": [
    "cars = {\"Supera\", \"mazda\", \"nissan\"}\n",
    " \n",
    "print(\"cars:\", end = \" \")\n",
    "print(cars)"
   ]
  },
  {
   "cell_type": "code",
   "execution_count": null,
   "id": "59450d81-161c-4b1b-8963-df687b55930d",
   "metadata": {},
   "outputs": [],
   "source": []
  },
  {
   "cell_type": "markdown",
   "id": "811651d2-9ee1-40af-ac90-436cfd2f324c",
   "metadata": {},
   "source": [
    "## 4 Tuple"
   ]
  },
  {
   "cell_type": "code",
   "execution_count": 40,
   "id": "bbc00176-9782-41f0-aa18-35d81253cdb3",
   "metadata": {},
   "outputs": [
    {
     "name": "stdout",
     "output_type": "stream",
     "text": [
      "(0, 1, 2, 3, 'apple', 'orange', 'watermelon')\n"
     ]
    }
   ],
   "source": [
    "Tuple1 = (0, 1, 2, 3)\n",
    "Tuple2 = ('apple', 'orange', 'watermelon')\n",
    " \n",
    "Tuple3 = Tuple1 + Tuple2\n",
    "print(Tuple3)"
   ]
  },
  {
   "cell_type": "code",
   "execution_count": null,
   "id": "5aaf0536-8ae6-4a36-9c1d-efa473c16cc4",
   "metadata": {},
   "outputs": [],
   "source": []
  },
  {
   "cell_type": "code",
   "execution_count": null,
   "id": "3ed55829-a87c-4dd6-bd72-19332ea176ec",
   "metadata": {},
   "outputs": [],
   "source": []
  }
 ],
 "metadata": {
  "kernelspec": {
   "display_name": "Python 3 (ipykernel)",
   "language": "python",
   "name": "python3"
  },
  "language_info": {
   "codemirror_mode": {
    "name": "ipython",
    "version": 3
   },
   "file_extension": ".py",
   "mimetype": "text/x-python",
   "name": "python",
   "nbconvert_exporter": "python",
   "pygments_lexer": "ipython3",
   "version": "3.12.0"
  }
 },
 "nbformat": 4,
 "nbformat_minor": 5
}
