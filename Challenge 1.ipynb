{
 "cells": [
  {
   "cell_type": "markdown",
   "id": "c520ab2b-96c4-41dd-bdb3-fdb338579c9f",
   "metadata": {},
   "source": [
    "## Finding the String within the string"
   ]
  },
  {
   "cell_type": "code",
   "execution_count": 41,
   "id": "9797adca-e54d-4f6a-9857-6319cdeecff9",
   "metadata": {},
   "outputs": [],
   "source": [
    "puzzle_string = \"\"\"p y t h o n s l i c i n g\n",
    "r o c k e t c o d e r s\n",
    "a l g o r i t h m m o d e\n",
    "n o o d l e s k y t h o n\"\"\""
   ]
  },
  {
   "cell_type": "code",
   "execution_count": 42,
   "id": "77861f5c-93fe-4c71-be0e-e257016485ce",
   "metadata": {},
   "outputs": [
    {
     "data": {
      "text/plain": [
       "'p y t h o n'"
      ]
     },
     "execution_count": 42,
     "metadata": {},
     "output_type": "execute_result"
    }
   ],
   "source": [
    "puzzle_string[0:11]"
   ]
  },
  {
   "cell_type": "code",
   "execution_count": 43,
   "id": "a7105090-e9bb-45a4-a4fc-b819f1616f7a",
   "metadata": {},
   "outputs": [
    {
     "data": {
      "text/plain": [
       "'s l i c i n g'"
      ]
     },
     "execution_count": 43,
     "metadata": {},
     "output_type": "execute_result"
    }
   ],
   "source": [
    "puzzle_string[12:25]"
   ]
  },
  {
   "cell_type": "code",
   "execution_count": 44,
   "id": "7089f32b-ffa9-4f1c-8945-6b2cb60fa757",
   "metadata": {},
   "outputs": [
    {
     "data": {
      "text/plain": [
       "'r o c k e t'"
      ]
     },
     "execution_count": 44,
     "metadata": {},
     "output_type": "execute_result"
    }
   ],
   "source": [
    "puzzle_string[26:37]"
   ]
  },
  {
   "cell_type": "code",
   "execution_count": 45,
   "id": "ebbc5874-d7cb-45a4-9118-d2c91df43411",
   "metadata": {},
   "outputs": [
    {
     "data": {
      "text/plain": [
       "'c o d e r s'"
      ]
     },
     "execution_count": 45,
     "metadata": {},
     "output_type": "execute_result"
    }
   ],
   "source": [
    "puzzle_string[38:49]"
   ]
  },
  {
   "cell_type": "code",
   "execution_count": 46,
   "id": "5c66b55e-5e58-4a1e-9572-0adbe1f1db83",
   "metadata": {},
   "outputs": [
    {
     "data": {
      "text/plain": [
       "'a l g o r i t h m'"
      ]
     },
     "execution_count": 46,
     "metadata": {},
     "output_type": "execute_result"
    }
   ],
   "source": [
    "puzzle_string[50:67]"
   ]
  },
  {
   "cell_type": "code",
   "execution_count": 47,
   "id": "63950c25-5090-4870-a014-72cf00f93324",
   "metadata": {},
   "outputs": [
    {
     "data": {
      "text/plain": [
       "'m o d e'"
      ]
     },
     "execution_count": 47,
     "metadata": {},
     "output_type": "execute_result"
    }
   ],
   "source": [
    "puzzle_string[68:75]"
   ]
  },
  {
   "cell_type": "code",
   "execution_count": 48,
   "id": "3b7e73cd-c315-4856-9cec-9567d689a944",
   "metadata": {},
   "outputs": [
    {
     "data": {
      "text/plain": [
       "'n o o d l e s'"
      ]
     },
     "execution_count": 48,
     "metadata": {},
     "output_type": "execute_result"
    }
   ],
   "source": [
    "puzzle_string[76:89]"
   ]
  },
  {
   "cell_type": "code",
   "execution_count": 49,
   "id": "6117f7a1-bad5-4974-95d2-4b82b1089b3c",
   "metadata": {},
   "outputs": [
    {
     "data": {
      "text/plain": [
       "'s k y '"
      ]
     },
     "execution_count": 49,
     "metadata": {},
     "output_type": "execute_result"
    }
   ],
   "source": [
    "puzzle_string[88:94]"
   ]
  },
  {
   "cell_type": "code",
   "execution_count": 50,
   "id": "08f641f3-89cb-45ad-9a6a-785928d54dd9",
   "metadata": {},
   "outputs": [
    {
     "data": {
      "text/plain": [
       "'o n'"
      ]
     },
     "execution_count": 50,
     "metadata": {},
     "output_type": "execute_result"
    }
   ],
   "source": [
    "puzzle_string[98:101]"
   ]
  },
  {
   "cell_type": "code",
   "execution_count": 51,
   "id": "5803553b-d14f-49a4-8227-0a5ff84a08f2",
   "metadata": {},
   "outputs": [
    {
     "data": {
      "text/plain": [
       "'g o'"
      ]
     },
     "execution_count": 51,
     "metadata": {},
     "output_type": "execute_result"
    }
   ],
   "source": [
    "puzzle_string[54:57]"
   ]
  },
  {
   "cell_type": "code",
   "execution_count": 52,
   "id": "b2bcd4e1-206d-4112-bf64-e889c882e177",
   "metadata": {},
   "outputs": [
    {
     "data": {
      "text/plain": [
       "'r o c k'"
      ]
     },
     "execution_count": 52,
     "metadata": {},
     "output_type": "execute_result"
    }
   ],
   "source": [
    "puzzle_string[26:33]"
   ]
  },
  {
   "cell_type": "code",
   "execution_count": 53,
   "id": "02b05fdd-6bdf-4f5f-ab7a-bbcc004a9112",
   "metadata": {},
   "outputs": [
    {
     "data": {
      "text/plain": [
       "'e t c'"
      ]
     },
     "execution_count": 53,
     "metadata": {},
     "output_type": "execute_result"
    }
   ],
   "source": [
    "puzzle_string[34:39]"
   ]
  },
  {
   "cell_type": "code",
   "execution_count": 54,
   "id": "d45f2d76-bd6d-4b75-b161-1ec55230d054",
   "metadata": {},
   "outputs": [
    {
     "data": {
      "text/plain": [
       "'n o'"
      ]
     },
     "execution_count": 54,
     "metadata": {},
     "output_type": "execute_result"
    }
   ],
   "source": [
    "puzzle_string[76:79]"
   ]
  },
  {
   "cell_type": "code",
   "execution_count": null,
   "id": "707e2985-234a-40df-a349-0e280f8dd8bb",
   "metadata": {},
   "outputs": [],
   "source": []
  },
  {
   "cell_type": "code",
   "execution_count": null,
   "id": "582daaaf-4b01-4d0a-97e5-f11d36800b3e",
   "metadata": {},
   "outputs": [],
   "source": []
  },
  {
   "cell_type": "code",
   "execution_count": null,
   "id": "4a2bd0ac-b0b7-4ea7-9d9b-3da80c52244c",
   "metadata": {},
   "outputs": [],
   "source": []
  },
  {
   "cell_type": "code",
   "execution_count": null,
   "id": "9ff02de0-7b7a-429d-b2aa-0dca3c5b7ef5",
   "metadata": {},
   "outputs": [],
   "source": []
  },
  {
   "cell_type": "code",
   "execution_count": null,
   "id": "c5fe774f-37dc-4623-a460-4b89466671e5",
   "metadata": {},
   "outputs": [],
   "source": []
  },
  {
   "cell_type": "code",
   "execution_count": null,
   "id": "1297dddd-46f7-4bc2-af0d-4ae395d90983",
   "metadata": {},
   "outputs": [],
   "source": []
  },
  {
   "cell_type": "code",
   "execution_count": null,
   "id": "aa91ec01-4ca4-4e62-9b8f-86d36b255a58",
   "metadata": {},
   "outputs": [],
   "source": []
  }
 ],
 "metadata": {
  "kernelspec": {
   "display_name": "Python 3 (ipykernel)",
   "language": "python",
   "name": "python3"
  },
  "language_info": {
   "codemirror_mode": {
    "name": "ipython",
    "version": 3
   },
   "file_extension": ".py",
   "mimetype": "text/x-python",
   "name": "python",
   "nbconvert_exporter": "python",
   "pygments_lexer": "ipython3",
   "version": "3.12.0"
  }
 },
 "nbformat": 4,
 "nbformat_minor": 5
}
