{
 "cells": [
  {
   "cell_type": "markdown",
   "id": "1debfbb3-6fb3-491f-84b4-15ca4dcb316c",
   "metadata": {},
   "source": [
    "# For loop"
   ]
  },
  {
   "cell_type": "code",
   "execution_count": 1,
   "id": "2f208bf7-6173-4baa-8169-71f0c1d2c71d",
   "metadata": {},
   "outputs": [],
   "source": [
    "#A for loop is used for iterating over a sequence (that is either a list, a tuple, a dictionary, a set, or a string)."
   ]
  },
  {
   "cell_type": "code",
   "execution_count": 4,
   "id": "999643fd-4cf4-44da-9817-52362fd3c554",
   "metadata": {},
   "outputs": [
    {
     "name": "stdout",
     "output_type": "stream",
     "text": [
      "Apple\n",
      "Waterlemon\n",
      "Orange\n",
      "Grapes\n"
     ]
    }
   ],
   "source": [
    "fruits = ['Apple', 'Waterlemon', 'Orange', 'Grapes']\n",
    "for x in fruits:\n",
    "    print(x)"
   ]
  },
  {
   "cell_type": "code",
   "execution_count": 6,
   "id": "8bc1d186-8d9f-46eb-966b-63ff8abecf3f",
   "metadata": {},
   "outputs": [
    {
     "name": "stdout",
     "output_type": "stream",
     "text": [
      "A\n",
      "P\n",
      "P\n",
      "L\n",
      "E\n"
     ]
    }
   ],
   "source": [
    "fruits = 'APPLE'\n",
    "for x in fruits:\n",
    "    print(x)"
   ]
  },
  {
   "cell_type": "markdown",
   "id": "efd7a939-845e-47b5-935b-6ff753531a61",
   "metadata": {},
   "source": [
    "# user defined function without for loop"
   ]
  },
  {
   "cell_type": "code",
   "execution_count": 11,
   "id": "dbf8dfc3-4a48-4621-b838-dc482a7e44a2",
   "metadata": {},
   "outputs": [
    {
     "name": "stdout",
     "output_type": "stream",
     "text": [
      "36\n"
     ]
    }
   ],
   "source": [
    "def square_number(x):\n",
    "    return x ** 2\n",
    "result = square_number(6)\n",
    "print(result)"
   ]
  },
  {
   "cell_type": "code",
   "execution_count": 12,
   "id": "aeea70a0-131c-43c7-b30a-a1c520e1cfde",
   "metadata": {},
   "outputs": [
    {
     "name": "stdout",
     "output_type": "stream",
     "text": [
      "60\n"
     ]
    }
   ],
   "source": [
    "def multiply_numbers(a, b):\n",
    "    result = a * b\n",
    "    return result\n",
    "product = multiply_numbers(15, 4)\n",
    "print(product)"
   ]
  },
  {
   "cell_type": "markdown",
   "id": "b887e30d-6ecd-4efd-967e-82384e289334",
   "metadata": {},
   "source": [
    "# user defined functions with for loop"
   ]
  },
  {
   "cell_type": "code",
   "execution_count": 18,
   "id": "fc9ebfe5-da52-4069-80a5-727f496e12df",
   "metadata": {},
   "outputs": [],
   "source": [
    "def print_numbers(n):\n",
    "    for i in range(1, n+1):\n",
    "        print(i)"
   ]
  },
  {
   "cell_type": "code",
   "execution_count": 19,
   "id": "1a6e0849-c62b-4837-94c5-0e07cbf2146e",
   "metadata": {},
   "outputs": [
    {
     "name": "stdout",
     "output_type": "stream",
     "text": [
      "1\n",
      "2\n",
      "3\n",
      "4\n",
      "5\n",
      "6\n",
      "7\n",
      "8\n",
      "9\n",
      "10\n"
     ]
    }
   ],
   "source": [
    "print_numbers(10)"
   ]
  },
  {
   "cell_type": "code",
   "execution_count": 23,
   "id": "9a10727b-d798-41b7-82c8-111c213e3c2a",
   "metadata": {},
   "outputs": [
    {
     "name": "stdout",
     "output_type": "stream",
     "text": [
      "30\n"
     ]
    }
   ],
   "source": [
    "def sum_of_squares(n):\n",
    "    total = 0\n",
    "    for i in range(1, n+1):\n",
    "        total += i**2\n",
    "    return total\n",
    "result = sum_of_squares(4)\n",
    "print(result)"
   ]
  },
  {
   "cell_type": "markdown",
   "id": "f8cc9d40-4fc1-43bd-b7f7-e6d21834c71e",
   "metadata": {},
   "source": [
    "# for loop with in operator"
   ]
  },
  {
   "cell_type": "code",
   "execution_count": 24,
   "id": "5816d138-da65-42e6-95b8-90690f7dfb43",
   "metadata": {},
   "outputs": [
    {
     "name": "stdout",
     "output_type": "stream",
     "text": [
      "Y\n",
      "o\n",
      "g\n",
      "e\n",
      "s\n",
      "h\n"
     ]
    }
   ],
   "source": [
    "word = \"Yogesh\"\n",
    "for letter in word:\n",
    "    print(letter)"
   ]
  },
  {
   "cell_type": "code",
   "execution_count": 30,
   "id": "42e4154a-befb-4e4c-9a3d-a583f4cc6c67",
   "metadata": {},
   "outputs": [
    {
     "name": "stdout",
     "output_type": "stream",
     "text": [
      "arun\n",
      "subendhu\n",
      "chanden\n",
      "yogesh\n",
      "subendhu is in the list.\n"
     ]
    }
   ],
   "source": [
    "names = ['arun', 'subendhu', 'chanden', 'yogesh']\n",
    "for name in names:\n",
    "    print(name)\n",
    "searched_name = 'subendhu'\n",
    "if searched_name in names:\n",
    "    print(f\"{searched_name} is in the list.\")\n",
    "else:\n",
    "    print(f\"{searched_name} is not in the list.\")"
   ]
  },
  {
   "cell_type": "markdown",
   "id": "4aed7a41-e2f7-4449-9751-430138ef9021",
   "metadata": {},
   "source": [
    "# for loop with not in operator"
   ]
  },
  {
   "cell_type": "code",
   "execution_count": 31,
   "id": "b912a468-f0a9-4d55-a461-4739d0311658",
   "metadata": {},
   "outputs": [
    {
     "name": "stdout",
     "output_type": "stream",
     "text": [
      "H n g n '   n   t h r "
     ]
    }
   ],
   "source": [
    "sentence = \"Hello, World!\"\n",
    "for char in sentence:\n",
    "    if char not in ['a', 'e', 'i', 'o', 'u']:\n",
    "        print(char, end=' ')"
   ]
  },
  {
   "cell_type": "code",
   "execution_count": 32,
   "id": "dd0ae3f8-2372-4573-bb34-595b85b74a06",
   "metadata": {},
   "outputs": [
    {
     "name": "stdout",
     "output_type": "stream",
     "text": [
      "0\n",
      "6\n",
      "7\n",
      "8\n",
      "9\n"
     ]
    }
   ],
   "source": [
    "numbers = [1, 2, 3, 4, 5]\n",
    "for i in range(10):\n",
    "  if i not in numbers:\n",
    "    print(i)"
   ]
  },
  {
   "cell_type": "code",
   "execution_count": null,
   "id": "c19d6128-83cc-4b1e-b942-a793b7130999",
   "metadata": {},
   "outputs": [],
   "source": []
  }
 ],
 "metadata": {
  "kernelspec": {
   "display_name": "Python 3 (ipykernel)",
   "language": "python",
   "name": "python3"
  },
  "language_info": {
   "codemirror_mode": {
    "name": "ipython",
    "version": 3
   },
   "file_extension": ".py",
   "mimetype": "text/x-python",
   "name": "python",
   "nbconvert_exporter": "python",
   "pygments_lexer": "ipython3",
   "version": "3.12.0"
  }
 },
 "nbformat": 4,
 "nbformat_minor": 5
}
