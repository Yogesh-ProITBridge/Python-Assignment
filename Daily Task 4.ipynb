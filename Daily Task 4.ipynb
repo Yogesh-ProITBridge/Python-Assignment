{
 "cells": [
  {
   "cell_type": "markdown",
   "id": "509cce40-b36f-4916-9327-19b2832bbe48",
   "metadata": {},
   "source": [
    "# DAILY TASK - 4 List comprehension"
   ]
  },
  {
   "cell_type": "code",
   "execution_count": null,
   "id": "a272a950-b6f0-42a1-9852-7b31bf1bbb47",
   "metadata": {},
   "outputs": [],
   "source": [
    "#List comprehension is an elegant way to define and create a list in python. We can create lists just like mathematical statements and in one line only. \n",
    "#The syntax of list comprehension is easier to grasp. \n",
    "\n",
    "#A list comprehension generally consists of these parts : \n",
    "\n",
    "#-Output expression,\n",
    "#-Input sequence,\n",
    "#-A variable representing a member of the input sequence and\n",
    "#-An optional predicate part."
   ]
  },
  {
   "cell_type": "code",
   "execution_count": 2,
   "id": "5ad2451f-5b3f-4cc8-9caa-c9b3d74a4cf0",
   "metadata": {},
   "outputs": [
    {
     "name": "stdout",
     "output_type": "stream",
     "text": [
      "['apple', 'banana', 'mango']\n"
     ]
    }
   ],
   "source": [
    "fruits = [\"apple\", \"banana\", \"cherry\", \"kiwi\", \"mango\"]\n",
    "newlist = []\n",
    "\n",
    "for x in fruits:\n",
    "  if \"a\" in x:\n",
    "    newlist.append(x)\n",
    "\n",
    "print(newlist)"
   ]
  },
  {
   "cell_type": "code",
   "execution_count": null,
   "id": "acbeaa07-d956-4bc3-86a4-c3f2f5b16bca",
   "metadata": {},
   "outputs": [],
   "source": []
  },
  {
   "cell_type": "code",
   "execution_count": 3,
   "id": "36efcb65-912a-481e-90e8-554160867cfb",
   "metadata": {},
   "outputs": [
    {
     "name": "stdout",
     "output_type": "stream",
     "text": [
      "[1, 9, 25, 49, 81]\n"
     ]
    }
   ],
   "source": [
    "odd_square = []  \n",
    "for x in range(1, 11):  \n",
    "    if x % 2 == 1:  \n",
    "        odd_square.append(x**2)  \n",
    "print (odd_square)"
   ]
  },
  {
   "cell_type": "code",
   "execution_count": null,
   "id": "5fd34a25-b4bd-4a34-be7c-8513a758bdce",
   "metadata": {},
   "outputs": [],
   "source": []
  },
  {
   "cell_type": "code",
   "execution_count": 4,
   "id": "f96dc532-4765-4854-bf54-00db4c4659c0",
   "metadata": {},
   "outputs": [
    {
     "name": "stdout",
     "output_type": "stream",
     "text": [
      "\n",
      "Multiplication Table\n",
      "[5, 1, 5]\n",
      "[5, 2, 10]\n",
      "[5, 3, 15]\n",
      "[5, 4, 20]\n",
      "[5, 5, 25]\n",
      "[5, 6, 30]\n",
      "[5, 7, 35]\n",
      "[5, 8, 40]\n",
      "[5, 9, 45]\n",
      "[5, 10, 50]\n"
     ]
    }
   ],
   "source": [
    "a = 5\n",
    "table = [[a, b, a * b] for b in range(1, 11)]  \n",
    "   \n",
    "print(\"\\nMultiplication Table\")  \n",
    "for i in table:  \n",
    "    print (i)"
   ]
  },
  {
   "cell_type": "code",
   "execution_count": null,
   "id": "610fb8be-d16f-4a58-878e-6231c7d995d1",
   "metadata": {},
   "outputs": [],
   "source": []
  },
  {
   "cell_type": "markdown",
   "id": "f3afb488-3111-452e-ac39-926d363810eb",
   "metadata": {},
   "source": [
    "## if else"
   ]
  },
  {
   "cell_type": "code",
   "execution_count": 1,
   "id": "bab45d52-2f7e-447d-a360-315cd1bb3bbf",
   "metadata": {},
   "outputs": [
    {
     "name": "stdin",
     "output_type": "stream",
     "text": [
      "Enter a number 25\n"
     ]
    },
    {
     "name": "stdout",
     "output_type": "stream",
     "text": [
      "This is odd number\n"
     ]
    }
   ],
   "source": [
    "number = int(input(\"Enter a number\"))\n",
    "if number%2 == 0:\n",
    "    print(\"This is even number\")\n",
    "else:\n",
    "    print(\"This is odd number\")"
   ]
  },
  {
   "cell_type": "code",
   "execution_count": 3,
   "id": "ae46248f-e26f-4b4a-9b4b-da18ea079379",
   "metadata": {},
   "outputs": [
    {
     "name": "stdin",
     "output_type": "stream",
     "text": [
      "enter x -5\n",
      "enter y 6\n"
     ]
    },
    {
     "name": "stdout",
     "output_type": "stream",
     "text": [
      "x is non-positive.\n"
     ]
    }
   ],
   "source": [
    "x = int(input(\"enter x\"))\n",
    "y = int(input(\"enter y\"))\n",
    "\n",
    "if x > 0:\n",
    "    if y > 0:\n",
    "        print(\"Both x and y are positive.\")\n",
    "    else:\n",
    "        print(\"Only x is positive.\")\n",
    "else:\n",
    "    print(\"x is non-positive.\")"
   ]
  },
  {
   "cell_type": "markdown",
   "id": "738db111-91af-4e1d-8c11-ba23c235ceed",
   "metadata": {},
   "source": [
    "## if else elif"
   ]
  },
  {
   "cell_type": "code",
   "execution_count": 11,
   "id": "4bf8c6d2-8613-45a8-bc2c-504ecee4f3da",
   "metadata": {},
   "outputs": [
    {
     "name": "stdin",
     "output_type": "stream",
     "text": [
      "Enter a number:  0\n"
     ]
    },
    {
     "name": "stdout",
     "output_type": "stream",
     "text": [
      "The number is zero.\n"
     ]
    }
   ],
   "source": [
    "\n",
    "num = int(input(\"Enter a number: \"))\n",
    "\n",
    "\n",
    "if num > 0:\n",
    "    print(\"The number is positive.\")\n",
    "elif num < 0:\n",
    "    print(\"The number is negative.\")\n",
    "else:\n",
    "    print(\"The number is zero.\")\n"
   ]
  },
  {
   "cell_type": "code",
   "execution_count": 1,
   "id": "f214666b-e0b1-4f7b-877d-0a76b2e95c1c",
   "metadata": {},
   "outputs": [
    {
     "name": "stdin",
     "output_type": "stream",
     "text": [
      "Enter your score 55\n"
     ]
    },
    {
     "name": "stdout",
     "output_type": "stream",
     "text": [
      "Your grade is: F\n"
     ]
    }
   ],
   "source": [
    "score = int(input(\"Enter your score\"))\n",
    "\n",
    "if score >= 90:\n",
    "    grade = 'A'\n",
    "elif score >= 80:\n",
    "    grade = 'B'\n",
    "elif score >= 70:\n",
    "    grade = 'C'\n",
    "elif score >= 60:\n",
    "    grade = 'D'\n",
    "else:\n",
    "    grade = 'F'\n",
    "\n",
    "print(\"Your grade is:\", grade)\n"
   ]
  },
  {
   "cell_type": "markdown",
   "id": "6ead2d89-4581-457e-a46e-61275d48ea04",
   "metadata": {},
   "source": [
    "## break"
   ]
  },
  {
   "cell_type": "code",
   "execution_count": 25,
   "id": "b86cc8c1-ba47-453b-b807-09eb3581c0bd",
   "metadata": {},
   "outputs": [
    {
     "name": "stdout",
     "output_type": "stream",
     "text": [
      "1\n",
      "2\n",
      "3\n",
      "4\n",
      "5\n"
     ]
    }
   ],
   "source": [
    "count = 1\n",
    "while count<=10:\n",
    "    print(count)\n",
    "    count+=1\n",
    "    if count == 6:\n",
    "        break\n",
    "    "
   ]
  },
  {
   "cell_type": "code",
   "execution_count": 12,
   "id": "8a798e87-e89c-4d72-ab3d-9bee2a0bb6c3",
   "metadata": {},
   "outputs": [
    {
     "name": "stdout",
     "output_type": "stream",
     "text": [
      "6 *  1 = 6\n",
      "6 *  2 = 12\n",
      "6 *  3 = 18\n",
      "6 *  4 = 24\n",
      "6 *  5 = 30\n"
     ]
    }
   ],
   "source": [
    "i = 1\n",
    "\n",
    "while i <= 10:\n",
    "    print('6 * ',(i), '=',6 * i)\n",
    "\n",
    "    if i >= 5:\n",
    "        break\n",
    "    \n",
    "    i = i + 1"
   ]
  },
  {
   "cell_type": "markdown",
   "id": "de695e5a-9bb4-4b31-ab36-5669f7fb7339",
   "metadata": {},
   "source": [
    "## continue"
   ]
  },
  {
   "cell_type": "code",
   "execution_count": 6,
   "id": "245d2509-3b68-40ad-bff1-3757147e6c8e",
   "metadata": {},
   "outputs": [
    {
     "name": "stdout",
     "output_type": "stream",
     "text": [
      "Y\n",
      "o\n",
      "g\n",
      "s\n",
      "h\n"
     ]
    }
   ],
   "source": [
    "for var in \"Yogesh\":\n",
    "    if var == \"e\":\n",
    "        continue\n",
    "    print(var)"
   ]
  },
  {
   "cell_type": "code",
   "execution_count": 6,
   "id": "9b9ad6ca-6f20-4836-8e71-91c6b438ddc9",
   "metadata": {},
   "outputs": [
    {
     "name": "stdout",
     "output_type": "stream",
     "text": [
      "1\n",
      "2\n",
      "3\n",
      "4\n"
     ]
    }
   ],
   "source": [
    "for i in range(1,5):\n",
    "    if i =='4':\n",
    "        continue\n",
    "    print(i)"
   ]
  },
  {
   "cell_type": "markdown",
   "id": "13584e61-6ed3-4161-a976-c02277cec598",
   "metadata": {},
   "source": [
    "## while"
   ]
  },
  {
   "cell_type": "code",
   "execution_count": 8,
   "id": "ce50391b-d000-4ee4-8b11-4cdf690c0a0d",
   "metadata": {},
   "outputs": [
    {
     "name": "stdin",
     "output_type": "stream",
     "text": [
      "enter your age 17\n"
     ]
    },
    {
     "name": "stdout",
     "output_type": "stream",
     "text": [
      "You can't vote\n"
     ]
    }
   ],
   "source": [
    "age = int(input(\"enter your age\"))\n",
    "while age > 18:\n",
    "    print('You can vote')\n",
    "else:\n",
    "    print(\"You can't vote\")"
   ]
  },
  {
   "cell_type": "code",
   "execution_count": 5,
   "id": "a831dcab-47b0-4625-8423-381eefe1e72e",
   "metadata": {},
   "outputs": [
    {
     "name": "stdout",
     "output_type": "stream",
     "text": [
      "Count: 0\n",
      "Count: 1\n",
      "Count: 2\n",
      "Count: 3\n",
      "Count: 4\n"
     ]
    }
   ],
   "source": [
    "count = 0\n",
    "\n",
    "while count < 5:\n",
    "    print(\"Count:\", count)\n",
    "    count += 1\n"
   ]
  },
  {
   "cell_type": "markdown",
   "id": "ba48af27-7a81-4af5-8a20-0d8f74f09e1a",
   "metadata": {},
   "source": [
    "## if not in operator"
   ]
  },
  {
   "cell_type": "code",
   "execution_count": 8,
   "id": "d86f5958-0234-44c3-bb31-d38f628b5edd",
   "metadata": {},
   "outputs": [
    {
     "name": "stdin",
     "output_type": "stream",
     "text": [
      "Enter a number 7\n"
     ]
    },
    {
     "name": "stdout",
     "output_type": "stream",
     "text": [
      "Element is not present in the list\n"
     ]
    }
   ],
   "source": [
    "list1=[1,2,3,4,5,6]\n",
    "a=int(input(\"Enter a number\"))\n",
    "if not a in list1 :\n",
    "    print(\"Element is not present in the list\")\n",
    "else:\n",
    "    print(\"Element is present in the list\")\n"
   ]
  },
  {
   "cell_type": "code",
   "execution_count": 10,
   "id": "3370d181-0595-4fde-bc7b-5da4160b1539",
   "metadata": {},
   "outputs": [
    {
     "name": "stdout",
     "output_type": "stream",
     "text": [
      "substring is present in string\n"
     ]
    }
   ],
   "source": [
    "str=\"abs function remove negative valve\"\n",
    "str1=\"negative\"\n",
    "if not str1 in str :\n",
    "    print(\"substring is not present in string\")\n",
    "else:\n",
    "    print(\"substring is present in string\")\n"
   ]
  },
  {
   "cell_type": "markdown",
   "id": "768abdaa-9c0b-4447-bcc8-ff2993fa66cf",
   "metadata": {},
   "source": [
    "## if in operator"
   ]
  },
  {
   "cell_type": "code",
   "execution_count": 11,
   "id": "b9b5c356-2872-4c8e-90e1-08dceb71ba1c",
   "metadata": {},
   "outputs": [
    {
     "name": "stdout",
     "output_type": "stream",
     "text": [
      "oil paints found\n"
     ]
    }
   ],
   "source": [
    "names = [\"pens\", \"Books\", \"pencil\",\"oil paints\",\"cryons\"]\n",
    "if \"oil paints\" in names:\n",
    "    print(\"oil paints found\")"
   ]
  },
  {
   "cell_type": "code",
   "execution_count": 13,
   "id": "ba5fe27c-d4a6-4a01-85c3-f685b90d6726",
   "metadata": {},
   "outputs": [
    {
     "name": "stdout",
     "output_type": "stream",
     "text": [
      "He's enrolled in  ProITBridge .\n"
     ]
    }
   ],
   "source": [
    "data = {\"Institute name\": \"ProITBridge\" , \"name\": \"Yogesh\"}\n",
    "if \"Institute name\" in data:\n",
    "    print(f\"He's enrolled in  {data['Institute name']} .\")"
   ]
  },
  {
   "cell_type": "code",
   "execution_count": null,
   "id": "921261f0-25ef-4a27-a64c-e5c1dd6a889f",
   "metadata": {},
   "outputs": [],
   "source": []
  }
 ],
 "metadata": {
  "kernelspec": {
   "display_name": "Python 3 (ipykernel)",
   "language": "python",
   "name": "python3"
  },
  "language_info": {
   "codemirror_mode": {
    "name": "ipython",
    "version": 3
   },
   "file_extension": ".py",
   "mimetype": "text/x-python",
   "name": "python",
   "nbconvert_exporter": "python",
   "pygments_lexer": "ipython3",
   "version": "3.12.0"
  }
 },
 "nbformat": 4,
 "nbformat_minor": 5
}
